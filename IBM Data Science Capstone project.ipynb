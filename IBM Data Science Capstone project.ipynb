{
 "cells": [
  {
   "cell_type": "markdown",
   "metadata": {},
   "source": [
    "# IBM DATA SCIENCE CAPSTONE PROJECT"
   ]
  },
  {
   "cell_type": "code",
   "execution_count": 1,
   "metadata": {},
   "outputs": [],
   "source": [
    "import pandas as pd\n",
    "import matplotlib.pyplot as plt\n",
    "import seaborn as sns\n",
    "%matplotlib inline\n",
    "import numpy as np\n",
    "from scipy import stats\n",
    "\n",
    "import sklearn\n",
    "from sklearn.model_selection import  train_test_split\n",
    "from sklearn.utils import resample\n",
    "from sklearn.preprocessing import LabelEncoder, OneHotEncoder, StandardScaler, OrdinalEncoder\n",
    "from sklearn.tree import DecisionTreeClassifier\n",
    "from sklearn import metrics\n",
    "from sklearn.linear_model import LogisticRegression\n",
    "from sklearn.metrics import confusion_matrix\n",
    "from sklearn.metrics import jaccard_similarity_score\n",
    "from sklearn.metrics import log_loss"
   ]
  },
  {
   "cell_type": "code",
   "execution_count": 2,
   "metadata": {},
   "outputs": [
    {
     "name": "stderr",
     "output_type": "stream",
     "text": [
      "/home/jupyterlab/conda/envs/python/lib/python3.6/site-packages/IPython/core/interactiveshell.py:3072: DtypeWarning: Columns (33) have mixed types.Specify dtype option on import or set low_memory=False.\n",
      "  interactivity=interactivity, compiler=compiler, result=result)\n"
     ]
    }
   ],
   "source": [
    "df = pd.read_csv(\"Collisions.csv\")\n",
    "pd.set_option('display.max_columns', None)"
   ]
  },
  {
   "cell_type": "code",
   "execution_count": 3,
   "metadata": {},
   "outputs": [],
   "source": [
    "# Removing duplicate columns\n",
    "df.drop([\"SEVERITYCODE.1\"], axis = 1 , inplace = True)"
   ]
  },
  {
   "cell_type": "code",
   "execution_count": 4,
   "metadata": {},
   "outputs": [],
   "source": [
    "# Dropping unnecessary columns \n",
    "df.drop([\"CROSSWALKKEY\",\"LOCATION\",\"SEGLANEKEY\", \"ST_COLCODE\", \"SDOTCOLNUM\", \"SDOT_COLCODE\",\"EXCEPTRSNDESC\", \"EXCEPTRSNCODE\",\"INTKEY\",\"REPORTNO\",\"STATUS\",\"COLDETKEY\",\"OBJECTID\",\"INCKEY\"], axis = 1, inplace = True)"
   ]
  },
  {
   "cell_type": "code",
   "execution_count": 5,
   "metadata": {},
   "outputs": [
    {
     "data": {
      "text/html": [
       "<div>\n",
       "<style scoped>\n",
       "    .dataframe tbody tr th:only-of-type {\n",
       "        vertical-align: middle;\n",
       "    }\n",
       "\n",
       "    .dataframe tbody tr th {\n",
       "        vertical-align: top;\n",
       "    }\n",
       "\n",
       "    .dataframe thead th {\n",
       "        text-align: right;\n",
       "    }\n",
       "</style>\n",
       "<table border=\"1\" class=\"dataframe\">\n",
       "  <thead>\n",
       "    <tr style=\"text-align: right;\">\n",
       "      <th></th>\n",
       "      <th>SEVERITYCODE</th>\n",
       "      <th>X</th>\n",
       "      <th>Y</th>\n",
       "      <th>ADDRTYPE</th>\n",
       "      <th>SEVERITYDESC</th>\n",
       "      <th>COLLISIONTYPE</th>\n",
       "      <th>PERSONCOUNT</th>\n",
       "      <th>PEDCOUNT</th>\n",
       "      <th>PEDCYLCOUNT</th>\n",
       "      <th>VEHCOUNT</th>\n",
       "      <th>INCDATE</th>\n",
       "      <th>INCDTTM</th>\n",
       "      <th>JUNCTIONTYPE</th>\n",
       "      <th>SDOT_COLDESC</th>\n",
       "      <th>INATTENTIONIND</th>\n",
       "      <th>UNDERINFL</th>\n",
       "      <th>WEATHER</th>\n",
       "      <th>ROADCOND</th>\n",
       "      <th>LIGHTCOND</th>\n",
       "      <th>PEDROWNOTGRNT</th>\n",
       "      <th>SPEEDING</th>\n",
       "      <th>ST_COLDESC</th>\n",
       "      <th>HITPARKEDCAR</th>\n",
       "    </tr>\n",
       "  </thead>\n",
       "  <tbody>\n",
       "    <tr>\n",
       "      <th>count</th>\n",
       "      <td>194673.000000</td>\n",
       "      <td>189339.000000</td>\n",
       "      <td>189339.000000</td>\n",
       "      <td>192747</td>\n",
       "      <td>194673</td>\n",
       "      <td>189769</td>\n",
       "      <td>194673.000000</td>\n",
       "      <td>194673.000000</td>\n",
       "      <td>194673.000000</td>\n",
       "      <td>194673.000000</td>\n",
       "      <td>194673</td>\n",
       "      <td>194673</td>\n",
       "      <td>188344</td>\n",
       "      <td>194673</td>\n",
       "      <td>29805</td>\n",
       "      <td>189789</td>\n",
       "      <td>189592</td>\n",
       "      <td>189661</td>\n",
       "      <td>189503</td>\n",
       "      <td>4667</td>\n",
       "      <td>9333</td>\n",
       "      <td>189769</td>\n",
       "      <td>194673</td>\n",
       "    </tr>\n",
       "    <tr>\n",
       "      <th>unique</th>\n",
       "      <td>NaN</td>\n",
       "      <td>NaN</td>\n",
       "      <td>NaN</td>\n",
       "      <td>3</td>\n",
       "      <td>2</td>\n",
       "      <td>10</td>\n",
       "      <td>NaN</td>\n",
       "      <td>NaN</td>\n",
       "      <td>NaN</td>\n",
       "      <td>NaN</td>\n",
       "      <td>5985</td>\n",
       "      <td>162058</td>\n",
       "      <td>7</td>\n",
       "      <td>39</td>\n",
       "      <td>1</td>\n",
       "      <td>4</td>\n",
       "      <td>11</td>\n",
       "      <td>9</td>\n",
       "      <td>9</td>\n",
       "      <td>1</td>\n",
       "      <td>1</td>\n",
       "      <td>62</td>\n",
       "      <td>2</td>\n",
       "    </tr>\n",
       "    <tr>\n",
       "      <th>top</th>\n",
       "      <td>NaN</td>\n",
       "      <td>NaN</td>\n",
       "      <td>NaN</td>\n",
       "      <td>Block</td>\n",
       "      <td>Property Damage Only Collision</td>\n",
       "      <td>Parked Car</td>\n",
       "      <td>NaN</td>\n",
       "      <td>NaN</td>\n",
       "      <td>NaN</td>\n",
       "      <td>NaN</td>\n",
       "      <td>2006/11/02 00:00:00+00</td>\n",
       "      <td>11/2/2006</td>\n",
       "      <td>Mid-Block (not related to intersection)</td>\n",
       "      <td>MOTOR VEHICLE STRUCK MOTOR VEHICLE, FRONT END ...</td>\n",
       "      <td>Y</td>\n",
       "      <td>N</td>\n",
       "      <td>Clear</td>\n",
       "      <td>Dry</td>\n",
       "      <td>Daylight</td>\n",
       "      <td>Y</td>\n",
       "      <td>Y</td>\n",
       "      <td>One parked--one moving</td>\n",
       "      <td>N</td>\n",
       "    </tr>\n",
       "    <tr>\n",
       "      <th>freq</th>\n",
       "      <td>NaN</td>\n",
       "      <td>NaN</td>\n",
       "      <td>NaN</td>\n",
       "      <td>126926</td>\n",
       "      <td>136485</td>\n",
       "      <td>47987</td>\n",
       "      <td>NaN</td>\n",
       "      <td>NaN</td>\n",
       "      <td>NaN</td>\n",
       "      <td>NaN</td>\n",
       "      <td>96</td>\n",
       "      <td>96</td>\n",
       "      <td>89800</td>\n",
       "      <td>85209</td>\n",
       "      <td>29805</td>\n",
       "      <td>100274</td>\n",
       "      <td>111135</td>\n",
       "      <td>124510</td>\n",
       "      <td>116137</td>\n",
       "      <td>4667</td>\n",
       "      <td>9333</td>\n",
       "      <td>44421</td>\n",
       "      <td>187457</td>\n",
       "    </tr>\n",
       "    <tr>\n",
       "      <th>mean</th>\n",
       "      <td>1.298901</td>\n",
       "      <td>-122.330518</td>\n",
       "      <td>47.619543</td>\n",
       "      <td>NaN</td>\n",
       "      <td>NaN</td>\n",
       "      <td>NaN</td>\n",
       "      <td>2.444427</td>\n",
       "      <td>0.037139</td>\n",
       "      <td>0.028391</td>\n",
       "      <td>1.920780</td>\n",
       "      <td>NaN</td>\n",
       "      <td>NaN</td>\n",
       "      <td>NaN</td>\n",
       "      <td>NaN</td>\n",
       "      <td>NaN</td>\n",
       "      <td>NaN</td>\n",
       "      <td>NaN</td>\n",
       "      <td>NaN</td>\n",
       "      <td>NaN</td>\n",
       "      <td>NaN</td>\n",
       "      <td>NaN</td>\n",
       "      <td>NaN</td>\n",
       "      <td>NaN</td>\n",
       "    </tr>\n",
       "    <tr>\n",
       "      <th>std</th>\n",
       "      <td>0.457778</td>\n",
       "      <td>0.029976</td>\n",
       "      <td>0.056157</td>\n",
       "      <td>NaN</td>\n",
       "      <td>NaN</td>\n",
       "      <td>NaN</td>\n",
       "      <td>1.345929</td>\n",
       "      <td>0.198150</td>\n",
       "      <td>0.167413</td>\n",
       "      <td>0.631047</td>\n",
       "      <td>NaN</td>\n",
       "      <td>NaN</td>\n",
       "      <td>NaN</td>\n",
       "      <td>NaN</td>\n",
       "      <td>NaN</td>\n",
       "      <td>NaN</td>\n",
       "      <td>NaN</td>\n",
       "      <td>NaN</td>\n",
       "      <td>NaN</td>\n",
       "      <td>NaN</td>\n",
       "      <td>NaN</td>\n",
       "      <td>NaN</td>\n",
       "      <td>NaN</td>\n",
       "    </tr>\n",
       "    <tr>\n",
       "      <th>min</th>\n",
       "      <td>1.000000</td>\n",
       "      <td>-122.419091</td>\n",
       "      <td>47.495573</td>\n",
       "      <td>NaN</td>\n",
       "      <td>NaN</td>\n",
       "      <td>NaN</td>\n",
       "      <td>0.000000</td>\n",
       "      <td>0.000000</td>\n",
       "      <td>0.000000</td>\n",
       "      <td>0.000000</td>\n",
       "      <td>NaN</td>\n",
       "      <td>NaN</td>\n",
       "      <td>NaN</td>\n",
       "      <td>NaN</td>\n",
       "      <td>NaN</td>\n",
       "      <td>NaN</td>\n",
       "      <td>NaN</td>\n",
       "      <td>NaN</td>\n",
       "      <td>NaN</td>\n",
       "      <td>NaN</td>\n",
       "      <td>NaN</td>\n",
       "      <td>NaN</td>\n",
       "      <td>NaN</td>\n",
       "    </tr>\n",
       "    <tr>\n",
       "      <th>25%</th>\n",
       "      <td>1.000000</td>\n",
       "      <td>-122.348673</td>\n",
       "      <td>47.575956</td>\n",
       "      <td>NaN</td>\n",
       "      <td>NaN</td>\n",
       "      <td>NaN</td>\n",
       "      <td>2.000000</td>\n",
       "      <td>0.000000</td>\n",
       "      <td>0.000000</td>\n",
       "      <td>2.000000</td>\n",
       "      <td>NaN</td>\n",
       "      <td>NaN</td>\n",
       "      <td>NaN</td>\n",
       "      <td>NaN</td>\n",
       "      <td>NaN</td>\n",
       "      <td>NaN</td>\n",
       "      <td>NaN</td>\n",
       "      <td>NaN</td>\n",
       "      <td>NaN</td>\n",
       "      <td>NaN</td>\n",
       "      <td>NaN</td>\n",
       "      <td>NaN</td>\n",
       "      <td>NaN</td>\n",
       "    </tr>\n",
       "    <tr>\n",
       "      <th>50%</th>\n",
       "      <td>1.000000</td>\n",
       "      <td>-122.330224</td>\n",
       "      <td>47.615369</td>\n",
       "      <td>NaN</td>\n",
       "      <td>NaN</td>\n",
       "      <td>NaN</td>\n",
       "      <td>2.000000</td>\n",
       "      <td>0.000000</td>\n",
       "      <td>0.000000</td>\n",
       "      <td>2.000000</td>\n",
       "      <td>NaN</td>\n",
       "      <td>NaN</td>\n",
       "      <td>NaN</td>\n",
       "      <td>NaN</td>\n",
       "      <td>NaN</td>\n",
       "      <td>NaN</td>\n",
       "      <td>NaN</td>\n",
       "      <td>NaN</td>\n",
       "      <td>NaN</td>\n",
       "      <td>NaN</td>\n",
       "      <td>NaN</td>\n",
       "      <td>NaN</td>\n",
       "      <td>NaN</td>\n",
       "    </tr>\n",
       "    <tr>\n",
       "      <th>75%</th>\n",
       "      <td>2.000000</td>\n",
       "      <td>-122.311937</td>\n",
       "      <td>47.663664</td>\n",
       "      <td>NaN</td>\n",
       "      <td>NaN</td>\n",
       "      <td>NaN</td>\n",
       "      <td>3.000000</td>\n",
       "      <td>0.000000</td>\n",
       "      <td>0.000000</td>\n",
       "      <td>2.000000</td>\n",
       "      <td>NaN</td>\n",
       "      <td>NaN</td>\n",
       "      <td>NaN</td>\n",
       "      <td>NaN</td>\n",
       "      <td>NaN</td>\n",
       "      <td>NaN</td>\n",
       "      <td>NaN</td>\n",
       "      <td>NaN</td>\n",
       "      <td>NaN</td>\n",
       "      <td>NaN</td>\n",
       "      <td>NaN</td>\n",
       "      <td>NaN</td>\n",
       "      <td>NaN</td>\n",
       "    </tr>\n",
       "    <tr>\n",
       "      <th>max</th>\n",
       "      <td>2.000000</td>\n",
       "      <td>-122.238949</td>\n",
       "      <td>47.734142</td>\n",
       "      <td>NaN</td>\n",
       "      <td>NaN</td>\n",
       "      <td>NaN</td>\n",
       "      <td>81.000000</td>\n",
       "      <td>6.000000</td>\n",
       "      <td>2.000000</td>\n",
       "      <td>12.000000</td>\n",
       "      <td>NaN</td>\n",
       "      <td>NaN</td>\n",
       "      <td>NaN</td>\n",
       "      <td>NaN</td>\n",
       "      <td>NaN</td>\n",
       "      <td>NaN</td>\n",
       "      <td>NaN</td>\n",
       "      <td>NaN</td>\n",
       "      <td>NaN</td>\n",
       "      <td>NaN</td>\n",
       "      <td>NaN</td>\n",
       "      <td>NaN</td>\n",
       "      <td>NaN</td>\n",
       "    </tr>\n",
       "  </tbody>\n",
       "</table>\n",
       "</div>"
      ],
      "text/plain": [
       "         SEVERITYCODE              X              Y ADDRTYPE  \\\n",
       "count   194673.000000  189339.000000  189339.000000   192747   \n",
       "unique            NaN            NaN            NaN        3   \n",
       "top               NaN            NaN            NaN    Block   \n",
       "freq              NaN            NaN            NaN   126926   \n",
       "mean         1.298901    -122.330518      47.619543      NaN   \n",
       "std          0.457778       0.029976       0.056157      NaN   \n",
       "min          1.000000    -122.419091      47.495573      NaN   \n",
       "25%          1.000000    -122.348673      47.575956      NaN   \n",
       "50%          1.000000    -122.330224      47.615369      NaN   \n",
       "75%          2.000000    -122.311937      47.663664      NaN   \n",
       "max          2.000000    -122.238949      47.734142      NaN   \n",
       "\n",
       "                          SEVERITYDESC COLLISIONTYPE    PERSONCOUNT  \\\n",
       "count                           194673        189769  194673.000000   \n",
       "unique                               2            10            NaN   \n",
       "top     Property Damage Only Collision    Parked Car            NaN   \n",
       "freq                            136485         47987            NaN   \n",
       "mean                               NaN           NaN       2.444427   \n",
       "std                                NaN           NaN       1.345929   \n",
       "min                                NaN           NaN       0.000000   \n",
       "25%                                NaN           NaN       2.000000   \n",
       "50%                                NaN           NaN       2.000000   \n",
       "75%                                NaN           NaN       3.000000   \n",
       "max                                NaN           NaN      81.000000   \n",
       "\n",
       "             PEDCOUNT    PEDCYLCOUNT       VEHCOUNT                 INCDATE  \\\n",
       "count   194673.000000  194673.000000  194673.000000                  194673   \n",
       "unique            NaN            NaN            NaN                    5985   \n",
       "top               NaN            NaN            NaN  2006/11/02 00:00:00+00   \n",
       "freq              NaN            NaN            NaN                      96   \n",
       "mean         0.037139       0.028391       1.920780                     NaN   \n",
       "std          0.198150       0.167413       0.631047                     NaN   \n",
       "min          0.000000       0.000000       0.000000                     NaN   \n",
       "25%          0.000000       0.000000       2.000000                     NaN   \n",
       "50%          0.000000       0.000000       2.000000                     NaN   \n",
       "75%          0.000000       0.000000       2.000000                     NaN   \n",
       "max          6.000000       2.000000      12.000000                     NaN   \n",
       "\n",
       "          INCDTTM                             JUNCTIONTYPE  \\\n",
       "count      194673                                   188344   \n",
       "unique     162058                                        7   \n",
       "top     11/2/2006  Mid-Block (not related to intersection)   \n",
       "freq           96                                    89800   \n",
       "mean          NaN                                      NaN   \n",
       "std           NaN                                      NaN   \n",
       "min           NaN                                      NaN   \n",
       "25%           NaN                                      NaN   \n",
       "50%           NaN                                      NaN   \n",
       "75%           NaN                                      NaN   \n",
       "max           NaN                                      NaN   \n",
       "\n",
       "                                             SDOT_COLDESC INATTENTIONIND  \\\n",
       "count                                              194673          29805   \n",
       "unique                                                 39              1   \n",
       "top     MOTOR VEHICLE STRUCK MOTOR VEHICLE, FRONT END ...              Y   \n",
       "freq                                                85209          29805   \n",
       "mean                                                  NaN            NaN   \n",
       "std                                                   NaN            NaN   \n",
       "min                                                   NaN            NaN   \n",
       "25%                                                   NaN            NaN   \n",
       "50%                                                   NaN            NaN   \n",
       "75%                                                   NaN            NaN   \n",
       "max                                                   NaN            NaN   \n",
       "\n",
       "       UNDERINFL WEATHER ROADCOND LIGHTCOND PEDROWNOTGRNT SPEEDING  \\\n",
       "count     189789  189592   189661    189503          4667     9333   \n",
       "unique         4      11        9         9             1        1   \n",
       "top            N   Clear      Dry  Daylight             Y        Y   \n",
       "freq      100274  111135   124510    116137          4667     9333   \n",
       "mean         NaN     NaN      NaN       NaN           NaN      NaN   \n",
       "std          NaN     NaN      NaN       NaN           NaN      NaN   \n",
       "min          NaN     NaN      NaN       NaN           NaN      NaN   \n",
       "25%          NaN     NaN      NaN       NaN           NaN      NaN   \n",
       "50%          NaN     NaN      NaN       NaN           NaN      NaN   \n",
       "75%          NaN     NaN      NaN       NaN           NaN      NaN   \n",
       "max          NaN     NaN      NaN       NaN           NaN      NaN   \n",
       "\n",
       "                    ST_COLDESC HITPARKEDCAR  \n",
       "count                   189769       194673  \n",
       "unique                      62            2  \n",
       "top     One parked--one moving            N  \n",
       "freq                     44421       187457  \n",
       "mean                       NaN          NaN  \n",
       "std                        NaN          NaN  \n",
       "min                        NaN          NaN  \n",
       "25%                        NaN          NaN  \n",
       "50%                        NaN          NaN  \n",
       "75%                        NaN          NaN  \n",
       "max                        NaN          NaN  "
      ]
     },
     "execution_count": 5,
     "metadata": {},
     "output_type": "execute_result"
    }
   ],
   "source": [
    "df.describe(include ='all')"
   ]
  },
  {
   "cell_type": "code",
   "execution_count": 6,
   "metadata": {},
   "outputs": [
    {
     "data": {
      "text/plain": [
       "SEVERITYCODE           0\n",
       "X                   5334\n",
       "Y                   5334\n",
       "ADDRTYPE            1926\n",
       "SEVERITYDESC           0\n",
       "COLLISIONTYPE       4904\n",
       "PERSONCOUNT            0\n",
       "PEDCOUNT               0\n",
       "PEDCYLCOUNT            0\n",
       "VEHCOUNT               0\n",
       "INCDATE                0\n",
       "INCDTTM                0\n",
       "JUNCTIONTYPE        6329\n",
       "SDOT_COLDESC           0\n",
       "INATTENTIONIND    164868\n",
       "UNDERINFL           4884\n",
       "WEATHER             5081\n",
       "ROADCOND            5012\n",
       "LIGHTCOND           5170\n",
       "PEDROWNOTGRNT     190006\n",
       "SPEEDING          185340\n",
       "ST_COLDESC          4904\n",
       "HITPARKEDCAR           0\n",
       "dtype: int64"
      ]
     },
     "execution_count": 6,
     "metadata": {},
     "output_type": "execute_result"
    }
   ],
   "source": [
    "df.isnull().sum()"
   ]
  },
  {
   "cell_type": "code",
   "execution_count": 7,
   "metadata": {},
   "outputs": [
    {
     "data": {
      "text/plain": [
       "SEVERITYCODE           0\n",
       "X                      0\n",
       "Y                      0\n",
       "ADDRTYPE               0\n",
       "SEVERITYDESC           0\n",
       "COLLISIONTYPE          0\n",
       "PERSONCOUNT         5544\n",
       "PEDCOUNT          187734\n",
       "PEDCYLCOUNT       189189\n",
       "VEHCOUNT            5085\n",
       "INCDATE                0\n",
       "INCDTTM                0\n",
       "JUNCTIONTYPE           0\n",
       "SDOT_COLDESC           0\n",
       "INATTENTIONIND         0\n",
       "UNDERINFL              0\n",
       "WEATHER                0\n",
       "ROADCOND               0\n",
       "LIGHTCOND              0\n",
       "PEDROWNOTGRNT          0\n",
       "SPEEDING               0\n",
       "ST_COLDESC             0\n",
       "HITPARKEDCAR           0\n",
       "dtype: int64"
      ]
     },
     "execution_count": 7,
     "metadata": {},
     "output_type": "execute_result"
    }
   ],
   "source": [
    "num_missing = (df == 0).sum()\n",
    "num_missing"
   ]
  },
  {
   "cell_type": "code",
   "execution_count": 8,
   "metadata": {},
   "outputs": [],
   "source": [
    "#Dropping all null values in the columns below\n",
    "df = df.dropna(subset = ['ADDRTYPE','ST_COLDESC','COLLISIONTYPE','JUNCTIONTYPE', 'LIGHTCOND', 'WEATHER', 'ROADCOND','X','Y'])\n"
   ]
  },
  {
   "cell_type": "code",
   "execution_count": 9,
   "metadata": {},
   "outputs": [
    {
     "name": "stdout",
     "output_type": "stream",
     "text": [
      "SEVERITYCODE        int64\n",
      "X                 float64\n",
      "Y                 float64\n",
      "ADDRTYPE           object\n",
      "SEVERITYDESC       object\n",
      "COLLISIONTYPE      object\n",
      "PERSONCOUNT         int64\n",
      "PEDCOUNT            int64\n",
      "PEDCYLCOUNT         int64\n",
      "VEHCOUNT            int64\n",
      "INCDATE            object\n",
      "INCDTTM            object\n",
      "JUNCTIONTYPE       object\n",
      "SDOT_COLDESC       object\n",
      "INATTENTIONIND     object\n",
      "UNDERINFL          object\n",
      "WEATHER            object\n",
      "ROADCOND           object\n",
      "LIGHTCOND          object\n",
      "PEDROWNOTGRNT      object\n",
      "SPEEDING           object\n",
      "ST_COLDESC         object\n",
      "HITPARKEDCAR       object\n",
      "dtype: object\n"
     ]
    }
   ],
   "source": [
    "print(df.dtypes)"
   ]
  },
  {
   "cell_type": "code",
   "execution_count": 10,
   "metadata": {},
   "outputs": [],
   "source": [
    "df[\"SPEEDING\"].replace(\"Y\",\"1\", inplace = True)\n",
    "df[\"SPEEDING\"].replace(np.nan,\"0\", inplace = True)\n",
    "df[\"PEDROWNOTGRNT\"].replace(np.nan,\"0\", inplace = True)\n",
    "df[\"PEDROWNOTGRNT\"].replace(\"Y\",\"1\", inplace = True)\n",
    "df[\"INATTENTIONIND\"].replace(np.nan,\"0\", inplace = True)\n",
    "df[\"INATTENTIONIND\"].replace(\"Y\",\"1\", inplace = True)\n",
    "df[\"UNDERINFL\"].replace(\"N\",\"0\", inplace = True)\n",
    "df[\"UNDERINFL\"].replace(\"Y\",\"1\", inplace = True)"
   ]
  },
  {
   "cell_type": "code",
   "execution_count": 11,
   "metadata": {},
   "outputs": [
    {
     "data": {
      "text/html": [
       "<div>\n",
       "<style scoped>\n",
       "    .dataframe tbody tr th:only-of-type {\n",
       "        vertical-align: middle;\n",
       "    }\n",
       "\n",
       "    .dataframe tbody tr th {\n",
       "        vertical-align: top;\n",
       "    }\n",
       "\n",
       "    .dataframe thead th {\n",
       "        text-align: right;\n",
       "    }\n",
       "</style>\n",
       "<table border=\"1\" class=\"dataframe\">\n",
       "  <thead>\n",
       "    <tr style=\"text-align: right;\">\n",
       "      <th></th>\n",
       "      <th>index</th>\n",
       "      <th>SEVERITYCODE</th>\n",
       "      <th>X</th>\n",
       "      <th>Y</th>\n",
       "      <th>ADDRTYPE</th>\n",
       "      <th>SEVERITYDESC</th>\n",
       "      <th>COLLISIONTYPE</th>\n",
       "      <th>PERSONCOUNT</th>\n",
       "      <th>PEDCOUNT</th>\n",
       "      <th>PEDCYLCOUNT</th>\n",
       "      <th>VEHCOUNT</th>\n",
       "      <th>INCDATE</th>\n",
       "      <th>INCDTTM</th>\n",
       "      <th>JUNCTIONTYPE</th>\n",
       "      <th>SDOT_COLDESC</th>\n",
       "      <th>INATTENTIONIND</th>\n",
       "      <th>UNDERINFL</th>\n",
       "      <th>WEATHER</th>\n",
       "      <th>ROADCOND</th>\n",
       "      <th>LIGHTCOND</th>\n",
       "      <th>PEDROWNOTGRNT</th>\n",
       "      <th>SPEEDING</th>\n",
       "      <th>ST_COLDESC</th>\n",
       "      <th>HITPARKEDCAR</th>\n",
       "    </tr>\n",
       "  </thead>\n",
       "  <tbody>\n",
       "    <tr>\n",
       "      <th>0</th>\n",
       "      <td>0</td>\n",
       "      <td>2</td>\n",
       "      <td>-122.323148</td>\n",
       "      <td>47.703140</td>\n",
       "      <td>Intersection</td>\n",
       "      <td>Injury Collision</td>\n",
       "      <td>Angles</td>\n",
       "      <td>2</td>\n",
       "      <td>0</td>\n",
       "      <td>0</td>\n",
       "      <td>2</td>\n",
       "      <td>2013/03/27 00:00:00+00</td>\n",
       "      <td>3/27/2013 2:54:00 PM</td>\n",
       "      <td>At Intersection (intersection related)</td>\n",
       "      <td>MOTOR VEHICLE STRUCK MOTOR VEHICLE, FRONT END ...</td>\n",
       "      <td>0</td>\n",
       "      <td>0</td>\n",
       "      <td>Overcast</td>\n",
       "      <td>Wet</td>\n",
       "      <td>Daylight</td>\n",
       "      <td>0</td>\n",
       "      <td>0</td>\n",
       "      <td>Entering at angle</td>\n",
       "      <td>N</td>\n",
       "    </tr>\n",
       "    <tr>\n",
       "      <th>1</th>\n",
       "      <td>1</td>\n",
       "      <td>1</td>\n",
       "      <td>-122.347294</td>\n",
       "      <td>47.647172</td>\n",
       "      <td>Block</td>\n",
       "      <td>Property Damage Only Collision</td>\n",
       "      <td>Sideswipe</td>\n",
       "      <td>2</td>\n",
       "      <td>0</td>\n",
       "      <td>0</td>\n",
       "      <td>2</td>\n",
       "      <td>2006/12/20 00:00:00+00</td>\n",
       "      <td>12/20/2006 6:55:00 PM</td>\n",
       "      <td>Mid-Block (not related to intersection)</td>\n",
       "      <td>MOTOR VEHICLE STRUCK MOTOR VEHICLE, LEFT SIDE ...</td>\n",
       "      <td>0</td>\n",
       "      <td>0</td>\n",
       "      <td>Raining</td>\n",
       "      <td>Wet</td>\n",
       "      <td>Dark - Street Lights On</td>\n",
       "      <td>0</td>\n",
       "      <td>0</td>\n",
       "      <td>From same direction - both going straight - bo...</td>\n",
       "      <td>N</td>\n",
       "    </tr>\n",
       "    <tr>\n",
       "      <th>2</th>\n",
       "      <td>2</td>\n",
       "      <td>1</td>\n",
       "      <td>-122.334540</td>\n",
       "      <td>47.607871</td>\n",
       "      <td>Block</td>\n",
       "      <td>Property Damage Only Collision</td>\n",
       "      <td>Parked Car</td>\n",
       "      <td>4</td>\n",
       "      <td>0</td>\n",
       "      <td>0</td>\n",
       "      <td>3</td>\n",
       "      <td>2004/11/18 00:00:00+00</td>\n",
       "      <td>11/18/2004 10:20:00 AM</td>\n",
       "      <td>Mid-Block (not related to intersection)</td>\n",
       "      <td>MOTOR VEHICLE STRUCK MOTOR VEHICLE, REAR END</td>\n",
       "      <td>0</td>\n",
       "      <td>0</td>\n",
       "      <td>Overcast</td>\n",
       "      <td>Dry</td>\n",
       "      <td>Daylight</td>\n",
       "      <td>0</td>\n",
       "      <td>0</td>\n",
       "      <td>One parked--one moving</td>\n",
       "      <td>N</td>\n",
       "    </tr>\n",
       "    <tr>\n",
       "      <th>3</th>\n",
       "      <td>3</td>\n",
       "      <td>1</td>\n",
       "      <td>-122.334803</td>\n",
       "      <td>47.604803</td>\n",
       "      <td>Block</td>\n",
       "      <td>Property Damage Only Collision</td>\n",
       "      <td>Other</td>\n",
       "      <td>3</td>\n",
       "      <td>0</td>\n",
       "      <td>0</td>\n",
       "      <td>3</td>\n",
       "      <td>2013/03/29 00:00:00+00</td>\n",
       "      <td>3/29/2013 9:26:00 AM</td>\n",
       "      <td>Mid-Block (not related to intersection)</td>\n",
       "      <td>MOTOR VEHICLE STRUCK MOTOR VEHICLE, FRONT END ...</td>\n",
       "      <td>0</td>\n",
       "      <td>0</td>\n",
       "      <td>Clear</td>\n",
       "      <td>Dry</td>\n",
       "      <td>Daylight</td>\n",
       "      <td>0</td>\n",
       "      <td>0</td>\n",
       "      <td>From same direction - all others</td>\n",
       "      <td>N</td>\n",
       "    </tr>\n",
       "    <tr>\n",
       "      <th>4</th>\n",
       "      <td>4</td>\n",
       "      <td>2</td>\n",
       "      <td>-122.306426</td>\n",
       "      <td>47.545739</td>\n",
       "      <td>Intersection</td>\n",
       "      <td>Injury Collision</td>\n",
       "      <td>Angles</td>\n",
       "      <td>2</td>\n",
       "      <td>0</td>\n",
       "      <td>0</td>\n",
       "      <td>2</td>\n",
       "      <td>2004/01/28 00:00:00+00</td>\n",
       "      <td>1/28/2004 8:04:00 AM</td>\n",
       "      <td>At Intersection (intersection related)</td>\n",
       "      <td>MOTOR VEHICLE STRUCK MOTOR VEHICLE, FRONT END ...</td>\n",
       "      <td>0</td>\n",
       "      <td>0</td>\n",
       "      <td>Raining</td>\n",
       "      <td>Wet</td>\n",
       "      <td>Daylight</td>\n",
       "      <td>0</td>\n",
       "      <td>0</td>\n",
       "      <td>Entering at angle</td>\n",
       "      <td>N</td>\n",
       "    </tr>\n",
       "    <tr>\n",
       "      <th>...</th>\n",
       "      <td>...</td>\n",
       "      <td>...</td>\n",
       "      <td>...</td>\n",
       "      <td>...</td>\n",
       "      <td>...</td>\n",
       "      <td>...</td>\n",
       "      <td>...</td>\n",
       "      <td>...</td>\n",
       "      <td>...</td>\n",
       "      <td>...</td>\n",
       "      <td>...</td>\n",
       "      <td>...</td>\n",
       "      <td>...</td>\n",
       "      <td>...</td>\n",
       "      <td>...</td>\n",
       "      <td>...</td>\n",
       "      <td>...</td>\n",
       "      <td>...</td>\n",
       "      <td>...</td>\n",
       "      <td>...</td>\n",
       "      <td>...</td>\n",
       "      <td>...</td>\n",
       "      <td>...</td>\n",
       "      <td>...</td>\n",
       "    </tr>\n",
       "    <tr>\n",
       "      <th>180062</th>\n",
       "      <td>194668</td>\n",
       "      <td>2</td>\n",
       "      <td>-122.290826</td>\n",
       "      <td>47.565408</td>\n",
       "      <td>Block</td>\n",
       "      <td>Injury Collision</td>\n",
       "      <td>Head On</td>\n",
       "      <td>3</td>\n",
       "      <td>0</td>\n",
       "      <td>0</td>\n",
       "      <td>2</td>\n",
       "      <td>2018/11/12 00:00:00+00</td>\n",
       "      <td>11/12/2018 8:12:00 AM</td>\n",
       "      <td>Mid-Block (not related to intersection)</td>\n",
       "      <td>MOTOR VEHICLE STRUCK MOTOR VEHICLE, FRONT END ...</td>\n",
       "      <td>0</td>\n",
       "      <td>0</td>\n",
       "      <td>Clear</td>\n",
       "      <td>Dry</td>\n",
       "      <td>Daylight</td>\n",
       "      <td>0</td>\n",
       "      <td>0</td>\n",
       "      <td>From opposite direction - both moving - head-on</td>\n",
       "      <td>N</td>\n",
       "    </tr>\n",
       "    <tr>\n",
       "      <th>180063</th>\n",
       "      <td>194669</td>\n",
       "      <td>1</td>\n",
       "      <td>-122.344526</td>\n",
       "      <td>47.690924</td>\n",
       "      <td>Block</td>\n",
       "      <td>Property Damage Only Collision</td>\n",
       "      <td>Rear Ended</td>\n",
       "      <td>2</td>\n",
       "      <td>0</td>\n",
       "      <td>0</td>\n",
       "      <td>2</td>\n",
       "      <td>2018/12/18 00:00:00+00</td>\n",
       "      <td>12/18/2018 9:14:00 AM</td>\n",
       "      <td>Mid-Block (not related to intersection)</td>\n",
       "      <td>MOTOR VEHICLE STRUCK MOTOR VEHICLE, REAR END</td>\n",
       "      <td>1</td>\n",
       "      <td>0</td>\n",
       "      <td>Raining</td>\n",
       "      <td>Wet</td>\n",
       "      <td>Daylight</td>\n",
       "      <td>0</td>\n",
       "      <td>0</td>\n",
       "      <td>From same direction - both going straight - bo...</td>\n",
       "      <td>N</td>\n",
       "    </tr>\n",
       "    <tr>\n",
       "      <th>180064</th>\n",
       "      <td>194670</td>\n",
       "      <td>2</td>\n",
       "      <td>-122.306689</td>\n",
       "      <td>47.683047</td>\n",
       "      <td>Intersection</td>\n",
       "      <td>Injury Collision</td>\n",
       "      <td>Left Turn</td>\n",
       "      <td>3</td>\n",
       "      <td>0</td>\n",
       "      <td>0</td>\n",
       "      <td>2</td>\n",
       "      <td>2019/01/19 00:00:00+00</td>\n",
       "      <td>1/19/2019 9:25:00 AM</td>\n",
       "      <td>At Intersection (intersection related)</td>\n",
       "      <td>MOTOR VEHICLE STRUCK MOTOR VEHICLE, FRONT END ...</td>\n",
       "      <td>0</td>\n",
       "      <td>0</td>\n",
       "      <td>Clear</td>\n",
       "      <td>Dry</td>\n",
       "      <td>Daylight</td>\n",
       "      <td>0</td>\n",
       "      <td>0</td>\n",
       "      <td>From opposite direction - one left turn - one ...</td>\n",
       "      <td>N</td>\n",
       "    </tr>\n",
       "    <tr>\n",
       "      <th>180065</th>\n",
       "      <td>194671</td>\n",
       "      <td>2</td>\n",
       "      <td>-122.355317</td>\n",
       "      <td>47.678734</td>\n",
       "      <td>Intersection</td>\n",
       "      <td>Injury Collision</td>\n",
       "      <td>Cycles</td>\n",
       "      <td>2</td>\n",
       "      <td>0</td>\n",
       "      <td>1</td>\n",
       "      <td>1</td>\n",
       "      <td>2019/01/15 00:00:00+00</td>\n",
       "      <td>1/15/2019 4:48:00 PM</td>\n",
       "      <td>At Intersection (intersection related)</td>\n",
       "      <td>PEDALCYCLIST STRUCK MOTOR VEHICLE FRONT END AT...</td>\n",
       "      <td>0</td>\n",
       "      <td>0</td>\n",
       "      <td>Clear</td>\n",
       "      <td>Dry</td>\n",
       "      <td>Dusk</td>\n",
       "      <td>0</td>\n",
       "      <td>0</td>\n",
       "      <td>Vehicle Strikes Pedalcyclist</td>\n",
       "      <td>N</td>\n",
       "    </tr>\n",
       "    <tr>\n",
       "      <th>180066</th>\n",
       "      <td>194672</td>\n",
       "      <td>1</td>\n",
       "      <td>-122.289360</td>\n",
       "      <td>47.611017</td>\n",
       "      <td>Block</td>\n",
       "      <td>Property Damage Only Collision</td>\n",
       "      <td>Rear Ended</td>\n",
       "      <td>2</td>\n",
       "      <td>0</td>\n",
       "      <td>0</td>\n",
       "      <td>2</td>\n",
       "      <td>2018/11/30 00:00:00+00</td>\n",
       "      <td>11/30/2018 3:45:00 PM</td>\n",
       "      <td>Mid-Block (not related to intersection)</td>\n",
       "      <td>MOTOR VEHICLE STRUCK MOTOR VEHICLE, REAR END</td>\n",
       "      <td>0</td>\n",
       "      <td>0</td>\n",
       "      <td>Clear</td>\n",
       "      <td>Wet</td>\n",
       "      <td>Daylight</td>\n",
       "      <td>0</td>\n",
       "      <td>0</td>\n",
       "      <td>From same direction - both going straight - on...</td>\n",
       "      <td>N</td>\n",
       "    </tr>\n",
       "  </tbody>\n",
       "</table>\n",
       "<p>180067 rows × 24 columns</p>\n",
       "</div>"
      ],
      "text/plain": [
       "         index  SEVERITYCODE           X          Y      ADDRTYPE  \\\n",
       "0            0             2 -122.323148  47.703140  Intersection   \n",
       "1            1             1 -122.347294  47.647172         Block   \n",
       "2            2             1 -122.334540  47.607871         Block   \n",
       "3            3             1 -122.334803  47.604803         Block   \n",
       "4            4             2 -122.306426  47.545739  Intersection   \n",
       "...        ...           ...         ...        ...           ...   \n",
       "180062  194668             2 -122.290826  47.565408         Block   \n",
       "180063  194669             1 -122.344526  47.690924         Block   \n",
       "180064  194670             2 -122.306689  47.683047  Intersection   \n",
       "180065  194671             2 -122.355317  47.678734  Intersection   \n",
       "180066  194672             1 -122.289360  47.611017         Block   \n",
       "\n",
       "                          SEVERITYDESC COLLISIONTYPE  PERSONCOUNT  PEDCOUNT  \\\n",
       "0                     Injury Collision        Angles            2         0   \n",
       "1       Property Damage Only Collision     Sideswipe            2         0   \n",
       "2       Property Damage Only Collision    Parked Car            4         0   \n",
       "3       Property Damage Only Collision         Other            3         0   \n",
       "4                     Injury Collision        Angles            2         0   \n",
       "...                                ...           ...          ...       ...   \n",
       "180062                Injury Collision       Head On            3         0   \n",
       "180063  Property Damage Only Collision    Rear Ended            2         0   \n",
       "180064                Injury Collision     Left Turn            3         0   \n",
       "180065                Injury Collision        Cycles            2         0   \n",
       "180066  Property Damage Only Collision    Rear Ended            2         0   \n",
       "\n",
       "        PEDCYLCOUNT  VEHCOUNT                 INCDATE                 INCDTTM  \\\n",
       "0                 0         2  2013/03/27 00:00:00+00    3/27/2013 2:54:00 PM   \n",
       "1                 0         2  2006/12/20 00:00:00+00   12/20/2006 6:55:00 PM   \n",
       "2                 0         3  2004/11/18 00:00:00+00  11/18/2004 10:20:00 AM   \n",
       "3                 0         3  2013/03/29 00:00:00+00    3/29/2013 9:26:00 AM   \n",
       "4                 0         2  2004/01/28 00:00:00+00    1/28/2004 8:04:00 AM   \n",
       "...             ...       ...                     ...                     ...   \n",
       "180062            0         2  2018/11/12 00:00:00+00   11/12/2018 8:12:00 AM   \n",
       "180063            0         2  2018/12/18 00:00:00+00   12/18/2018 9:14:00 AM   \n",
       "180064            0         2  2019/01/19 00:00:00+00    1/19/2019 9:25:00 AM   \n",
       "180065            1         1  2019/01/15 00:00:00+00    1/15/2019 4:48:00 PM   \n",
       "180066            0         2  2018/11/30 00:00:00+00   11/30/2018 3:45:00 PM   \n",
       "\n",
       "                                   JUNCTIONTYPE  \\\n",
       "0        At Intersection (intersection related)   \n",
       "1       Mid-Block (not related to intersection)   \n",
       "2       Mid-Block (not related to intersection)   \n",
       "3       Mid-Block (not related to intersection)   \n",
       "4        At Intersection (intersection related)   \n",
       "...                                         ...   \n",
       "180062  Mid-Block (not related to intersection)   \n",
       "180063  Mid-Block (not related to intersection)   \n",
       "180064   At Intersection (intersection related)   \n",
       "180065   At Intersection (intersection related)   \n",
       "180066  Mid-Block (not related to intersection)   \n",
       "\n",
       "                                             SDOT_COLDESC INATTENTIONIND  \\\n",
       "0       MOTOR VEHICLE STRUCK MOTOR VEHICLE, FRONT END ...              0   \n",
       "1       MOTOR VEHICLE STRUCK MOTOR VEHICLE, LEFT SIDE ...              0   \n",
       "2            MOTOR VEHICLE STRUCK MOTOR VEHICLE, REAR END              0   \n",
       "3       MOTOR VEHICLE STRUCK MOTOR VEHICLE, FRONT END ...              0   \n",
       "4       MOTOR VEHICLE STRUCK MOTOR VEHICLE, FRONT END ...              0   \n",
       "...                                                   ...            ...   \n",
       "180062  MOTOR VEHICLE STRUCK MOTOR VEHICLE, FRONT END ...              0   \n",
       "180063       MOTOR VEHICLE STRUCK MOTOR VEHICLE, REAR END              1   \n",
       "180064  MOTOR VEHICLE STRUCK MOTOR VEHICLE, FRONT END ...              0   \n",
       "180065  PEDALCYCLIST STRUCK MOTOR VEHICLE FRONT END AT...              0   \n",
       "180066       MOTOR VEHICLE STRUCK MOTOR VEHICLE, REAR END              0   \n",
       "\n",
       "       UNDERINFL   WEATHER ROADCOND                LIGHTCOND PEDROWNOTGRNT  \\\n",
       "0              0  Overcast      Wet                 Daylight             0   \n",
       "1              0   Raining      Wet  Dark - Street Lights On             0   \n",
       "2              0  Overcast      Dry                 Daylight             0   \n",
       "3              0     Clear      Dry                 Daylight             0   \n",
       "4              0   Raining      Wet                 Daylight             0   \n",
       "...          ...       ...      ...                      ...           ...   \n",
       "180062         0     Clear      Dry                 Daylight             0   \n",
       "180063         0   Raining      Wet                 Daylight             0   \n",
       "180064         0     Clear      Dry                 Daylight             0   \n",
       "180065         0     Clear      Dry                     Dusk             0   \n",
       "180066         0     Clear      Wet                 Daylight             0   \n",
       "\n",
       "       SPEEDING                                         ST_COLDESC  \\\n",
       "0             0                                  Entering at angle   \n",
       "1             0  From same direction - both going straight - bo...   \n",
       "2             0                             One parked--one moving   \n",
       "3             0                   From same direction - all others   \n",
       "4             0                                  Entering at angle   \n",
       "...         ...                                                ...   \n",
       "180062        0    From opposite direction - both moving - head-on   \n",
       "180063        0  From same direction - both going straight - bo...   \n",
       "180064        0  From opposite direction - one left turn - one ...   \n",
       "180065        0                       Vehicle Strikes Pedalcyclist   \n",
       "180066        0  From same direction - both going straight - on...   \n",
       "\n",
       "       HITPARKEDCAR  \n",
       "0                 N  \n",
       "1                 N  \n",
       "2                 N  \n",
       "3                 N  \n",
       "4                 N  \n",
       "...             ...  \n",
       "180062            N  \n",
       "180063            N  \n",
       "180064            N  \n",
       "180065            N  \n",
       "180066            N  \n",
       "\n",
       "[180067 rows x 24 columns]"
      ]
     },
     "execution_count": 11,
     "metadata": {},
     "output_type": "execute_result"
    }
   ],
   "source": [
    "df.reset_index()"
   ]
  },
  {
   "cell_type": "markdown",
   "metadata": {},
   "source": [
    "## Extracting useful data from date and time column "
   ]
  },
  {
   "cell_type": "code",
   "execution_count": 12,
   "metadata": {},
   "outputs": [],
   "source": [
    "df['INCDTTM'] = pd.to_datetime(df['INCDTTM'])"
   ]
  },
  {
   "cell_type": "code",
   "execution_count": 13,
   "metadata": {},
   "outputs": [],
   "source": [
    "df[\"Day\"] = df['INCDTTM'].map(lambda x: x.day)\n",
    "df[\"Month\"] = df['INCDTTM'].map(lambda x: x.month)\n",
    "df[\"Year\"] = df['INCDTTM'].map(lambda x: x.year)"
   ]
  },
  {
   "cell_type": "code",
   "execution_count": 14,
   "metadata": {},
   "outputs": [],
   "source": [
    "df['day_of_week'] = df['INCDTTM'].dt.day_name()"
   ]
  },
  {
   "cell_type": "code",
   "execution_count": 15,
   "metadata": {},
   "outputs": [],
   "source": [
    "df['weekend']= np.where(df['day_of_week'].isin(['Friday', 'Saturday', 'Sunday']), 1, 0)"
   ]
  },
  {
   "cell_type": "code",
   "execution_count": 16,
   "metadata": {},
   "outputs": [],
   "source": [
    "df['hours'] = df.INCDTTM.dt.hour"
   ]
  },
  {
   "cell_type": "code",
   "execution_count": 17,
   "metadata": {},
   "outputs": [
    {
     "data": {
      "text/html": [
       "<div>\n",
       "<style scoped>\n",
       "    .dataframe tbody tr th:only-of-type {\n",
       "        vertical-align: middle;\n",
       "    }\n",
       "\n",
       "    .dataframe tbody tr th {\n",
       "        vertical-align: top;\n",
       "    }\n",
       "\n",
       "    .dataframe thead th {\n",
       "        text-align: right;\n",
       "    }\n",
       "</style>\n",
       "<table border=\"1\" class=\"dataframe\">\n",
       "  <thead>\n",
       "    <tr style=\"text-align: right;\">\n",
       "      <th></th>\n",
       "      <th>SEVERITYCODE</th>\n",
       "      <th>X</th>\n",
       "      <th>Y</th>\n",
       "      <th>ADDRTYPE</th>\n",
       "      <th>SEVERITYDESC</th>\n",
       "      <th>COLLISIONTYPE</th>\n",
       "      <th>PERSONCOUNT</th>\n",
       "      <th>PEDCOUNT</th>\n",
       "      <th>PEDCYLCOUNT</th>\n",
       "      <th>VEHCOUNT</th>\n",
       "      <th>INCDATE</th>\n",
       "      <th>INCDTTM</th>\n",
       "      <th>JUNCTIONTYPE</th>\n",
       "      <th>SDOT_COLDESC</th>\n",
       "      <th>INATTENTIONIND</th>\n",
       "      <th>UNDERINFL</th>\n",
       "      <th>WEATHER</th>\n",
       "      <th>ROADCOND</th>\n",
       "      <th>LIGHTCOND</th>\n",
       "      <th>PEDROWNOTGRNT</th>\n",
       "      <th>SPEEDING</th>\n",
       "      <th>ST_COLDESC</th>\n",
       "      <th>HITPARKEDCAR</th>\n",
       "      <th>Day</th>\n",
       "      <th>Month</th>\n",
       "      <th>Year</th>\n",
       "      <th>day_of_week</th>\n",
       "      <th>weekend</th>\n",
       "      <th>hours</th>\n",
       "    </tr>\n",
       "  </thead>\n",
       "  <tbody>\n",
       "    <tr>\n",
       "      <th>0</th>\n",
       "      <td>2</td>\n",
       "      <td>-122.323148</td>\n",
       "      <td>47.703140</td>\n",
       "      <td>Intersection</td>\n",
       "      <td>Injury Collision</td>\n",
       "      <td>Angles</td>\n",
       "      <td>2</td>\n",
       "      <td>0</td>\n",
       "      <td>0</td>\n",
       "      <td>2</td>\n",
       "      <td>2013/03/27 00:00:00+00</td>\n",
       "      <td>2013-03-27 14:54:00</td>\n",
       "      <td>At Intersection (intersection related)</td>\n",
       "      <td>MOTOR VEHICLE STRUCK MOTOR VEHICLE, FRONT END ...</td>\n",
       "      <td>0</td>\n",
       "      <td>0</td>\n",
       "      <td>Overcast</td>\n",
       "      <td>Wet</td>\n",
       "      <td>Daylight</td>\n",
       "      <td>0</td>\n",
       "      <td>0</td>\n",
       "      <td>Entering at angle</td>\n",
       "      <td>N</td>\n",
       "      <td>27</td>\n",
       "      <td>3</td>\n",
       "      <td>2013</td>\n",
       "      <td>Wednesday</td>\n",
       "      <td>0</td>\n",
       "      <td>14</td>\n",
       "    </tr>\n",
       "    <tr>\n",
       "      <th>1</th>\n",
       "      <td>1</td>\n",
       "      <td>-122.347294</td>\n",
       "      <td>47.647172</td>\n",
       "      <td>Block</td>\n",
       "      <td>Property Damage Only Collision</td>\n",
       "      <td>Sideswipe</td>\n",
       "      <td>2</td>\n",
       "      <td>0</td>\n",
       "      <td>0</td>\n",
       "      <td>2</td>\n",
       "      <td>2006/12/20 00:00:00+00</td>\n",
       "      <td>2006-12-20 18:55:00</td>\n",
       "      <td>Mid-Block (not related to intersection)</td>\n",
       "      <td>MOTOR VEHICLE STRUCK MOTOR VEHICLE, LEFT SIDE ...</td>\n",
       "      <td>0</td>\n",
       "      <td>0</td>\n",
       "      <td>Raining</td>\n",
       "      <td>Wet</td>\n",
       "      <td>Dark - Street Lights On</td>\n",
       "      <td>0</td>\n",
       "      <td>0</td>\n",
       "      <td>From same direction - both going straight - bo...</td>\n",
       "      <td>N</td>\n",
       "      <td>20</td>\n",
       "      <td>12</td>\n",
       "      <td>2006</td>\n",
       "      <td>Wednesday</td>\n",
       "      <td>0</td>\n",
       "      <td>18</td>\n",
       "    </tr>\n",
       "    <tr>\n",
       "      <th>2</th>\n",
       "      <td>1</td>\n",
       "      <td>-122.334540</td>\n",
       "      <td>47.607871</td>\n",
       "      <td>Block</td>\n",
       "      <td>Property Damage Only Collision</td>\n",
       "      <td>Parked Car</td>\n",
       "      <td>4</td>\n",
       "      <td>0</td>\n",
       "      <td>0</td>\n",
       "      <td>3</td>\n",
       "      <td>2004/11/18 00:00:00+00</td>\n",
       "      <td>2004-11-18 10:20:00</td>\n",
       "      <td>Mid-Block (not related to intersection)</td>\n",
       "      <td>MOTOR VEHICLE STRUCK MOTOR VEHICLE, REAR END</td>\n",
       "      <td>0</td>\n",
       "      <td>0</td>\n",
       "      <td>Overcast</td>\n",
       "      <td>Dry</td>\n",
       "      <td>Daylight</td>\n",
       "      <td>0</td>\n",
       "      <td>0</td>\n",
       "      <td>One parked--one moving</td>\n",
       "      <td>N</td>\n",
       "      <td>18</td>\n",
       "      <td>11</td>\n",
       "      <td>2004</td>\n",
       "      <td>Thursday</td>\n",
       "      <td>0</td>\n",
       "      <td>10</td>\n",
       "    </tr>\n",
       "    <tr>\n",
       "      <th>3</th>\n",
       "      <td>1</td>\n",
       "      <td>-122.334803</td>\n",
       "      <td>47.604803</td>\n",
       "      <td>Block</td>\n",
       "      <td>Property Damage Only Collision</td>\n",
       "      <td>Other</td>\n",
       "      <td>3</td>\n",
       "      <td>0</td>\n",
       "      <td>0</td>\n",
       "      <td>3</td>\n",
       "      <td>2013/03/29 00:00:00+00</td>\n",
       "      <td>2013-03-29 09:26:00</td>\n",
       "      <td>Mid-Block (not related to intersection)</td>\n",
       "      <td>MOTOR VEHICLE STRUCK MOTOR VEHICLE, FRONT END ...</td>\n",
       "      <td>0</td>\n",
       "      <td>0</td>\n",
       "      <td>Clear</td>\n",
       "      <td>Dry</td>\n",
       "      <td>Daylight</td>\n",
       "      <td>0</td>\n",
       "      <td>0</td>\n",
       "      <td>From same direction - all others</td>\n",
       "      <td>N</td>\n",
       "      <td>29</td>\n",
       "      <td>3</td>\n",
       "      <td>2013</td>\n",
       "      <td>Friday</td>\n",
       "      <td>1</td>\n",
       "      <td>9</td>\n",
       "    </tr>\n",
       "    <tr>\n",
       "      <th>4</th>\n",
       "      <td>2</td>\n",
       "      <td>-122.306426</td>\n",
       "      <td>47.545739</td>\n",
       "      <td>Intersection</td>\n",
       "      <td>Injury Collision</td>\n",
       "      <td>Angles</td>\n",
       "      <td>2</td>\n",
       "      <td>0</td>\n",
       "      <td>0</td>\n",
       "      <td>2</td>\n",
       "      <td>2004/01/28 00:00:00+00</td>\n",
       "      <td>2004-01-28 08:04:00</td>\n",
       "      <td>At Intersection (intersection related)</td>\n",
       "      <td>MOTOR VEHICLE STRUCK MOTOR VEHICLE, FRONT END ...</td>\n",
       "      <td>0</td>\n",
       "      <td>0</td>\n",
       "      <td>Raining</td>\n",
       "      <td>Wet</td>\n",
       "      <td>Daylight</td>\n",
       "      <td>0</td>\n",
       "      <td>0</td>\n",
       "      <td>Entering at angle</td>\n",
       "      <td>N</td>\n",
       "      <td>28</td>\n",
       "      <td>1</td>\n",
       "      <td>2004</td>\n",
       "      <td>Wednesday</td>\n",
       "      <td>0</td>\n",
       "      <td>8</td>\n",
       "    </tr>\n",
       "    <tr>\n",
       "      <th>...</th>\n",
       "      <td>...</td>\n",
       "      <td>...</td>\n",
       "      <td>...</td>\n",
       "      <td>...</td>\n",
       "      <td>...</td>\n",
       "      <td>...</td>\n",
       "      <td>...</td>\n",
       "      <td>...</td>\n",
       "      <td>...</td>\n",
       "      <td>...</td>\n",
       "      <td>...</td>\n",
       "      <td>...</td>\n",
       "      <td>...</td>\n",
       "      <td>...</td>\n",
       "      <td>...</td>\n",
       "      <td>...</td>\n",
       "      <td>...</td>\n",
       "      <td>...</td>\n",
       "      <td>...</td>\n",
       "      <td>...</td>\n",
       "      <td>...</td>\n",
       "      <td>...</td>\n",
       "      <td>...</td>\n",
       "      <td>...</td>\n",
       "      <td>...</td>\n",
       "      <td>...</td>\n",
       "      <td>...</td>\n",
       "      <td>...</td>\n",
       "      <td>...</td>\n",
       "    </tr>\n",
       "    <tr>\n",
       "      <th>194668</th>\n",
       "      <td>2</td>\n",
       "      <td>-122.290826</td>\n",
       "      <td>47.565408</td>\n",
       "      <td>Block</td>\n",
       "      <td>Injury Collision</td>\n",
       "      <td>Head On</td>\n",
       "      <td>3</td>\n",
       "      <td>0</td>\n",
       "      <td>0</td>\n",
       "      <td>2</td>\n",
       "      <td>2018/11/12 00:00:00+00</td>\n",
       "      <td>2018-11-12 08:12:00</td>\n",
       "      <td>Mid-Block (not related to intersection)</td>\n",
       "      <td>MOTOR VEHICLE STRUCK MOTOR VEHICLE, FRONT END ...</td>\n",
       "      <td>0</td>\n",
       "      <td>0</td>\n",
       "      <td>Clear</td>\n",
       "      <td>Dry</td>\n",
       "      <td>Daylight</td>\n",
       "      <td>0</td>\n",
       "      <td>0</td>\n",
       "      <td>From opposite direction - both moving - head-on</td>\n",
       "      <td>N</td>\n",
       "      <td>12</td>\n",
       "      <td>11</td>\n",
       "      <td>2018</td>\n",
       "      <td>Monday</td>\n",
       "      <td>0</td>\n",
       "      <td>8</td>\n",
       "    </tr>\n",
       "    <tr>\n",
       "      <th>194669</th>\n",
       "      <td>1</td>\n",
       "      <td>-122.344526</td>\n",
       "      <td>47.690924</td>\n",
       "      <td>Block</td>\n",
       "      <td>Property Damage Only Collision</td>\n",
       "      <td>Rear Ended</td>\n",
       "      <td>2</td>\n",
       "      <td>0</td>\n",
       "      <td>0</td>\n",
       "      <td>2</td>\n",
       "      <td>2018/12/18 00:00:00+00</td>\n",
       "      <td>2018-12-18 09:14:00</td>\n",
       "      <td>Mid-Block (not related to intersection)</td>\n",
       "      <td>MOTOR VEHICLE STRUCK MOTOR VEHICLE, REAR END</td>\n",
       "      <td>1</td>\n",
       "      <td>0</td>\n",
       "      <td>Raining</td>\n",
       "      <td>Wet</td>\n",
       "      <td>Daylight</td>\n",
       "      <td>0</td>\n",
       "      <td>0</td>\n",
       "      <td>From same direction - both going straight - bo...</td>\n",
       "      <td>N</td>\n",
       "      <td>18</td>\n",
       "      <td>12</td>\n",
       "      <td>2018</td>\n",
       "      <td>Tuesday</td>\n",
       "      <td>0</td>\n",
       "      <td>9</td>\n",
       "    </tr>\n",
       "    <tr>\n",
       "      <th>194670</th>\n",
       "      <td>2</td>\n",
       "      <td>-122.306689</td>\n",
       "      <td>47.683047</td>\n",
       "      <td>Intersection</td>\n",
       "      <td>Injury Collision</td>\n",
       "      <td>Left Turn</td>\n",
       "      <td>3</td>\n",
       "      <td>0</td>\n",
       "      <td>0</td>\n",
       "      <td>2</td>\n",
       "      <td>2019/01/19 00:00:00+00</td>\n",
       "      <td>2019-01-19 09:25:00</td>\n",
       "      <td>At Intersection (intersection related)</td>\n",
       "      <td>MOTOR VEHICLE STRUCK MOTOR VEHICLE, FRONT END ...</td>\n",
       "      <td>0</td>\n",
       "      <td>0</td>\n",
       "      <td>Clear</td>\n",
       "      <td>Dry</td>\n",
       "      <td>Daylight</td>\n",
       "      <td>0</td>\n",
       "      <td>0</td>\n",
       "      <td>From opposite direction - one left turn - one ...</td>\n",
       "      <td>N</td>\n",
       "      <td>19</td>\n",
       "      <td>1</td>\n",
       "      <td>2019</td>\n",
       "      <td>Saturday</td>\n",
       "      <td>1</td>\n",
       "      <td>9</td>\n",
       "    </tr>\n",
       "    <tr>\n",
       "      <th>194671</th>\n",
       "      <td>2</td>\n",
       "      <td>-122.355317</td>\n",
       "      <td>47.678734</td>\n",
       "      <td>Intersection</td>\n",
       "      <td>Injury Collision</td>\n",
       "      <td>Cycles</td>\n",
       "      <td>2</td>\n",
       "      <td>0</td>\n",
       "      <td>1</td>\n",
       "      <td>1</td>\n",
       "      <td>2019/01/15 00:00:00+00</td>\n",
       "      <td>2019-01-15 16:48:00</td>\n",
       "      <td>At Intersection (intersection related)</td>\n",
       "      <td>PEDALCYCLIST STRUCK MOTOR VEHICLE FRONT END AT...</td>\n",
       "      <td>0</td>\n",
       "      <td>0</td>\n",
       "      <td>Clear</td>\n",
       "      <td>Dry</td>\n",
       "      <td>Dusk</td>\n",
       "      <td>0</td>\n",
       "      <td>0</td>\n",
       "      <td>Vehicle Strikes Pedalcyclist</td>\n",
       "      <td>N</td>\n",
       "      <td>15</td>\n",
       "      <td>1</td>\n",
       "      <td>2019</td>\n",
       "      <td>Tuesday</td>\n",
       "      <td>0</td>\n",
       "      <td>16</td>\n",
       "    </tr>\n",
       "    <tr>\n",
       "      <th>194672</th>\n",
       "      <td>1</td>\n",
       "      <td>-122.289360</td>\n",
       "      <td>47.611017</td>\n",
       "      <td>Block</td>\n",
       "      <td>Property Damage Only Collision</td>\n",
       "      <td>Rear Ended</td>\n",
       "      <td>2</td>\n",
       "      <td>0</td>\n",
       "      <td>0</td>\n",
       "      <td>2</td>\n",
       "      <td>2018/11/30 00:00:00+00</td>\n",
       "      <td>2018-11-30 15:45:00</td>\n",
       "      <td>Mid-Block (not related to intersection)</td>\n",
       "      <td>MOTOR VEHICLE STRUCK MOTOR VEHICLE, REAR END</td>\n",
       "      <td>0</td>\n",
       "      <td>0</td>\n",
       "      <td>Clear</td>\n",
       "      <td>Wet</td>\n",
       "      <td>Daylight</td>\n",
       "      <td>0</td>\n",
       "      <td>0</td>\n",
       "      <td>From same direction - both going straight - on...</td>\n",
       "      <td>N</td>\n",
       "      <td>30</td>\n",
       "      <td>11</td>\n",
       "      <td>2018</td>\n",
       "      <td>Friday</td>\n",
       "      <td>1</td>\n",
       "      <td>15</td>\n",
       "    </tr>\n",
       "  </tbody>\n",
       "</table>\n",
       "<p>180067 rows × 29 columns</p>\n",
       "</div>"
      ],
      "text/plain": [
       "        SEVERITYCODE           X          Y      ADDRTYPE  \\\n",
       "0                  2 -122.323148  47.703140  Intersection   \n",
       "1                  1 -122.347294  47.647172         Block   \n",
       "2                  1 -122.334540  47.607871         Block   \n",
       "3                  1 -122.334803  47.604803         Block   \n",
       "4                  2 -122.306426  47.545739  Intersection   \n",
       "...              ...         ...        ...           ...   \n",
       "194668             2 -122.290826  47.565408         Block   \n",
       "194669             1 -122.344526  47.690924         Block   \n",
       "194670             2 -122.306689  47.683047  Intersection   \n",
       "194671             2 -122.355317  47.678734  Intersection   \n",
       "194672             1 -122.289360  47.611017         Block   \n",
       "\n",
       "                          SEVERITYDESC COLLISIONTYPE  PERSONCOUNT  PEDCOUNT  \\\n",
       "0                     Injury Collision        Angles            2         0   \n",
       "1       Property Damage Only Collision     Sideswipe            2         0   \n",
       "2       Property Damage Only Collision    Parked Car            4         0   \n",
       "3       Property Damage Only Collision         Other            3         0   \n",
       "4                     Injury Collision        Angles            2         0   \n",
       "...                                ...           ...          ...       ...   \n",
       "194668                Injury Collision       Head On            3         0   \n",
       "194669  Property Damage Only Collision    Rear Ended            2         0   \n",
       "194670                Injury Collision     Left Turn            3         0   \n",
       "194671                Injury Collision        Cycles            2         0   \n",
       "194672  Property Damage Only Collision    Rear Ended            2         0   \n",
       "\n",
       "        PEDCYLCOUNT  VEHCOUNT                 INCDATE             INCDTTM  \\\n",
       "0                 0         2  2013/03/27 00:00:00+00 2013-03-27 14:54:00   \n",
       "1                 0         2  2006/12/20 00:00:00+00 2006-12-20 18:55:00   \n",
       "2                 0         3  2004/11/18 00:00:00+00 2004-11-18 10:20:00   \n",
       "3                 0         3  2013/03/29 00:00:00+00 2013-03-29 09:26:00   \n",
       "4                 0         2  2004/01/28 00:00:00+00 2004-01-28 08:04:00   \n",
       "...             ...       ...                     ...                 ...   \n",
       "194668            0         2  2018/11/12 00:00:00+00 2018-11-12 08:12:00   \n",
       "194669            0         2  2018/12/18 00:00:00+00 2018-12-18 09:14:00   \n",
       "194670            0         2  2019/01/19 00:00:00+00 2019-01-19 09:25:00   \n",
       "194671            1         1  2019/01/15 00:00:00+00 2019-01-15 16:48:00   \n",
       "194672            0         2  2018/11/30 00:00:00+00 2018-11-30 15:45:00   \n",
       "\n",
       "                                   JUNCTIONTYPE  \\\n",
       "0        At Intersection (intersection related)   \n",
       "1       Mid-Block (not related to intersection)   \n",
       "2       Mid-Block (not related to intersection)   \n",
       "3       Mid-Block (not related to intersection)   \n",
       "4        At Intersection (intersection related)   \n",
       "...                                         ...   \n",
       "194668  Mid-Block (not related to intersection)   \n",
       "194669  Mid-Block (not related to intersection)   \n",
       "194670   At Intersection (intersection related)   \n",
       "194671   At Intersection (intersection related)   \n",
       "194672  Mid-Block (not related to intersection)   \n",
       "\n",
       "                                             SDOT_COLDESC INATTENTIONIND  \\\n",
       "0       MOTOR VEHICLE STRUCK MOTOR VEHICLE, FRONT END ...              0   \n",
       "1       MOTOR VEHICLE STRUCK MOTOR VEHICLE, LEFT SIDE ...              0   \n",
       "2            MOTOR VEHICLE STRUCK MOTOR VEHICLE, REAR END              0   \n",
       "3       MOTOR VEHICLE STRUCK MOTOR VEHICLE, FRONT END ...              0   \n",
       "4       MOTOR VEHICLE STRUCK MOTOR VEHICLE, FRONT END ...              0   \n",
       "...                                                   ...            ...   \n",
       "194668  MOTOR VEHICLE STRUCK MOTOR VEHICLE, FRONT END ...              0   \n",
       "194669       MOTOR VEHICLE STRUCK MOTOR VEHICLE, REAR END              1   \n",
       "194670  MOTOR VEHICLE STRUCK MOTOR VEHICLE, FRONT END ...              0   \n",
       "194671  PEDALCYCLIST STRUCK MOTOR VEHICLE FRONT END AT...              0   \n",
       "194672       MOTOR VEHICLE STRUCK MOTOR VEHICLE, REAR END              0   \n",
       "\n",
       "       UNDERINFL   WEATHER ROADCOND                LIGHTCOND PEDROWNOTGRNT  \\\n",
       "0              0  Overcast      Wet                 Daylight             0   \n",
       "1              0   Raining      Wet  Dark - Street Lights On             0   \n",
       "2              0  Overcast      Dry                 Daylight             0   \n",
       "3              0     Clear      Dry                 Daylight             0   \n",
       "4              0   Raining      Wet                 Daylight             0   \n",
       "...          ...       ...      ...                      ...           ...   \n",
       "194668         0     Clear      Dry                 Daylight             0   \n",
       "194669         0   Raining      Wet                 Daylight             0   \n",
       "194670         0     Clear      Dry                 Daylight             0   \n",
       "194671         0     Clear      Dry                     Dusk             0   \n",
       "194672         0     Clear      Wet                 Daylight             0   \n",
       "\n",
       "       SPEEDING                                         ST_COLDESC  \\\n",
       "0             0                                  Entering at angle   \n",
       "1             0  From same direction - both going straight - bo...   \n",
       "2             0                             One parked--one moving   \n",
       "3             0                   From same direction - all others   \n",
       "4             0                                  Entering at angle   \n",
       "...         ...                                                ...   \n",
       "194668        0    From opposite direction - both moving - head-on   \n",
       "194669        0  From same direction - both going straight - bo...   \n",
       "194670        0  From opposite direction - one left turn - one ...   \n",
       "194671        0                       Vehicle Strikes Pedalcyclist   \n",
       "194672        0  From same direction - both going straight - on...   \n",
       "\n",
       "       HITPARKEDCAR  Day  Month  Year day_of_week  weekend  hours  \n",
       "0                 N   27      3  2013   Wednesday        0     14  \n",
       "1                 N   20     12  2006   Wednesday        0     18  \n",
       "2                 N   18     11  2004    Thursday        0     10  \n",
       "3                 N   29      3  2013      Friday        1      9  \n",
       "4                 N   28      1  2004   Wednesday        0      8  \n",
       "...             ...  ...    ...   ...         ...      ...    ...  \n",
       "194668            N   12     11  2018      Monday        0      8  \n",
       "194669            N   18     12  2018     Tuesday        0      9  \n",
       "194670            N   19      1  2019    Saturday        1      9  \n",
       "194671            N   15      1  2019     Tuesday        0     16  \n",
       "194672            N   30     11  2018      Friday        1     15  \n",
       "\n",
       "[180067 rows x 29 columns]"
      ]
     },
     "execution_count": 17,
     "metadata": {},
     "output_type": "execute_result"
    }
   ],
   "source": [
    "df"
   ]
  },
  {
   "cell_type": "markdown",
   "metadata": {},
   "source": [
    "## Chi square test"
   ]
  },
  {
   "cell_type": "code",
   "execution_count": 18,
   "metadata": {},
   "outputs": [
    {
     "name": "stdout",
     "output_type": "stream",
     "text": [
      "ADDRTYPE is IMPORTANT for Prediction\n",
      "JUNCTIONTYPE is IMPORTANT for Prediction\n",
      "LIGHTCOND is IMPORTANT for Prediction\n",
      "WEATHER is IMPORTANT for Prediction\n",
      "ROADCOND is IMPORTANT for Prediction\n",
      "COLLISIONTYPE is IMPORTANT for Prediction\n",
      "SDOT_COLDESC is IMPORTANT for Prediction\n",
      "INATTENTIONIND is IMPORTANT for Prediction\n",
      "UNDERINFL is IMPORTANT for Prediction\n",
      "PEDROWNOTGRNT is IMPORTANT for Prediction\n",
      "SPEEDING is IMPORTANT for Prediction\n",
      "ST_COLDESC is IMPORTANT for Prediction\n",
      "HITPARKEDCAR is IMPORTANT for Prediction\n",
      "Day is NOT an important predictor. (Discard Day from model)\n",
      "Month is IMPORTANT for Prediction\n",
      "Year is IMPORTANT for Prediction\n",
      "day_of_week is IMPORTANT for Prediction\n",
      "weekend is IMPORTANT for Prediction\n",
      "hours is IMPORTANT for Prediction\n"
     ]
    }
   ],
   "source": [
    "# Code for chi square is taken from \"https://www.hackdeploy.com/chi-square-feature-selection-in-python\"\n",
    "\n",
    "import scipy.stats as stats\n",
    "from scipy.stats import chi2_contingency\n",
    "\n",
    "class ChiSquare:\n",
    "    def __init__(self, dataframe):\n",
    "        self.df = dataframe\n",
    "        self.p = None #P-Value\n",
    "        self.chi2 = None #Chi Test Statistic\n",
    "        self.dof = None\n",
    "        \n",
    "        self.dfObserved = None\n",
    "        self.dfExpected = None\n",
    "        \n",
    "    def _print_chisquare_result(self, colX, alpha):\n",
    "        result = \"\"\n",
    "        if self.p<alpha:\n",
    "            result=\"{0} is IMPORTANT for Prediction\".format(colX)\n",
    "        else:\n",
    "            result=\"{0} is NOT an important predictor. (Discard {0} from model)\".format(colX)\n",
    "\n",
    "        print(result)\n",
    "        \n",
    "    def TestIndependence(self,colX,colY, alpha=0.05):\n",
    "        X = self.df[colX].astype(str)\n",
    "        Y = self.df[colY].astype(str)\n",
    "        \n",
    "        self.dfObserved = pd.crosstab(Y,X) \n",
    "        chi2, p, dof, expected = stats.chi2_contingency(self.dfObserved.values)\n",
    "        self.p = p\n",
    "        self.chi2 = chi2\n",
    "        self.dof = dof \n",
    "        \n",
    "        self.dfExpected = pd.DataFrame(expected, columns=self.dfObserved.columns, index = self.dfObserved.index)\n",
    "        \n",
    "        self._print_chisquare_result(colX,alpha)\n",
    "\n",
    "#Initialize ChiSquare Class\n",
    "cT = ChiSquare(df)\n",
    "\n",
    "#Feature Selection\n",
    "testColumns = ['ADDRTYPE', 'JUNCTIONTYPE', 'LIGHTCOND', 'WEATHER', 'ROADCOND','COLLISIONTYPE','SDOT_COLDESC','INATTENTIONIND','UNDERINFL','PEDROWNOTGRNT','SPEEDING','ST_COLDESC','HITPARKEDCAR','Day','Month','Year','day_of_week','weekend','hours']\n",
    "for var in testColumns:\n",
    "    cT.TestIndependence(colX=var,colY=\"SEVERITYCODE\" )  "
   ]
  },
  {
   "cell_type": "markdown",
   "metadata": {},
   "source": [
    "## Data Visualization"
   ]
  },
  {
   "cell_type": "code",
   "execution_count": 19,
   "metadata": {},
   "outputs": [],
   "source": [
    "df_plt1 = df['ADDRTYPE']\n",
    "df_plt2 = df['COLLISIONTYPE']\n",
    "df_plt3 = df['JUNCTIONTYPE']\n",
    "df_plt4 = df['WEATHER']\n",
    "df_plt5 = df['LIGHTCOND']\n",
    "df_plt6 = df['ROADCOND']"
   ]
  },
  {
   "cell_type": "code",
   "execution_count": 20,
   "metadata": {},
   "outputs": [
    {
     "data": {
      "image/png": "[encoded data removed]",
      "text/plain": [
       "<Figure size 720x432 with 1 Axes>"
      ]
     },
     "metadata": {
      "needs_background": "light"
     },
     "output_type": "display_data"
    }
   ],
   "source": [
    "df_plt1.value_counts().plot(kind='bar', figsize=(10, 6))\n",
    "\n",
    "plt.xlabel('') # add to x-label to the plot\n",
    "plt.ylabel('Count') # add y-label to the plot\n",
    "plt.title('Collision address type') # add title to the plot\n",
    "plt.xticks(rotation='horizontal')\n",
    "plt.savefig('ADDRTYPE1.png')\n",
    "plt.show()"
   ]
  },
  {
   "cell_type": "code",
   "execution_count": 21,
   "metadata": {},
   "outputs": [
    {
     "data": {
      "image/png": "[encoded data removed]",
      "text/plain": [
       "<Figure size 1008x576 with 1 Axes>"
      ]
     },
     "metadata": {
      "needs_background": "light"
     },
     "output_type": "display_data"
    }
   ],
   "source": [
    "ax = df.groupby(['ADDRTYPE','SEVERITYDESC'])['ADDRTYPE'].count().unstack(0).plot.bar(title=\"Collision address type\", figsize=(14,8))\n",
    "ax.set_xlabel('')\n",
    "ax.set_ylabel('Frequency')\n",
    "plt.xticks(rotation='horizontal')\n",
    "plt.savefig('ADDRTYPE2.png')"
   ]
  },
  {
   "cell_type": "code",
   "execution_count": 22,
   "metadata": {},
   "outputs": [
    {
     "data": {
      "image/png": "[encoded data removed]",
      "text/plain": [
       "<Figure size 720x432 with 1 Axes>"
      ]
     },
     "metadata": {
      "needs_background": "light"
     },
     "output_type": "display_data"
    }
   ],
   "source": [
    "df_plt2.value_counts().plot(kind='bar', figsize=(10, 6))\n",
    "\n",
    "plt.xlabel('') # add to x-label to the plot\n",
    "plt.ylabel('Count') # add y-label to the plot\n",
    "plt.title('Collision type') # add title to the plot\n",
    "plt.xticks(rotation='horizontal')\n",
    "plt.savefig('Collisiontype1.png')\n",
    "plt.show()"
   ]
  },
  {
   "cell_type": "code",
   "execution_count": 23,
   "metadata": {},
   "outputs": [
    {
     "data": {
      "image/png": "[encoded data removed]",
      "text/plain": [
       "<Figure size 1008x576 with 1 Axes>"
      ]
     },
     "metadata": {
      "needs_background": "light"
     },
     "output_type": "display_data"
    }
   ],
   "source": [
    "ax = df.groupby(['COLLISIONTYPE','SEVERITYDESC'])['COLLISIONTYPE'].count().unstack(0).plot.bar(title=\"Collision type\", figsize=(14,8))\n",
    "ax.set_xlabel('')\n",
    "ax.set_ylabel('Frequency')\n",
    "plt.xticks(rotation='horizontal')\n",
    "plt.savefig('Collisiontype2.png')"
   ]
  },
  {
   "cell_type": "code",
   "execution_count": 24,
   "metadata": {},
   "outputs": [
    {
     "data": {
      "image/png": "[encoded data removed]",
      "text/plain": [
       "<Figure size 1008x576 with 1 Axes>"
      ]
     },
     "metadata": {
      "needs_background": "light"
     },
     "output_type": "display_data"
    }
   ],
   "source": [
    "ax = df.groupby(['JUNCTIONTYPE','SEVERITYDESC'])['JUNCTIONTYPE'].count().unstack(0).plot.bar(title=\"Junction type\", figsize=(14,8))\n",
    "ax.set_xlabel('')\n",
    "ax.set_ylabel('Frequency')\n",
    "plt.xticks(rotation='horizontal')\n",
    "plt.savefig('Junctiontype.png')\n"
   ]
  },
  {
   "cell_type": "code",
   "execution_count": 25,
   "metadata": {},
   "outputs": [
    {
     "data": {
      "image/png": "[encoded data removed]",
      "text/plain": [
       "<Figure size 1008x576 with 1 Axes>"
      ]
     },
     "metadata": {
      "needs_background": "light"
     },
     "output_type": "display_data"
    }
   ],
   "source": [
    "ax = df.groupby(['WEATHER','SEVERITYDESC'])['WEATHER'].count().unstack(0).plot.bar(title=\"Weather type and severity of collision\", figsize=(14,8))\n",
    "ax.set_xlabel('Weather')\n",
    "ax.set_ylabel('Frequency')\n",
    "plt.xticks(rotation='horizontal')\n",
    "plt.savefig('Weathertype.png')\n"
   ]
  },
  {
   "cell_type": "code",
   "execution_count": 26,
   "metadata": {},
   "outputs": [
    {
     "data": {
      "image/png": "[encoded data removed]",
      "text/plain": [
       "<Figure size 1008x576 with 1 Axes>"
      ]
     },
     "metadata": {
      "needs_background": "light"
     },
     "output_type": "display_data"
    }
   ],
   "source": [
    "ax = df.groupby(['LIGHTCOND','SEVERITYDESC'])['LIGHTCOND'].count().unstack(0).plot.bar(title=\"Light condition and severity of collision\", figsize=(14,8))\n",
    "ax.set_xlabel('')\n",
    "ax.set_ylabel('Frequency')\n",
    "plt.xticks(rotation='horizontal')\n",
    "plt.savefig('Lightcondition.png')\n"
   ]
  },
  {
   "cell_type": "code",
   "execution_count": 27,
   "metadata": {},
   "outputs": [
    {
     "data": {
      "image/png": "[encoded data removed]",
      "text/plain": [
       "<Figure size 1008x576 with 1 Axes>"
      ]
     },
     "metadata": {
      "needs_background": "light"
     },
     "output_type": "display_data"
    }
   ],
   "source": [
    "ax = df.groupby(['ROADCOND','SEVERITYDESC'])['ROADCOND'].count().unstack(0).plot.bar(title=\"Road Condition and severity of collision\", figsize=(14,8))\n",
    "ax.set_xlabel('Weather')\n",
    "ax.set_ylabel('Frequency')\n",
    "plt.xticks(rotation='horizontal')\n",
    "plt.savefig('Roadcondition.png')\n"
   ]
  },
  {
   "cell_type": "code",
   "execution_count": 28,
   "metadata": {},
   "outputs": [
    {
     "data": {
      "image/png": "[encoded data removed]",
      "text/plain": [
       "<Figure size 720x432 with 1 Axes>"
      ]
     },
     "metadata": {
      "needs_background": "light"
     },
     "output_type": "display_data"
    }
   ],
   "source": [
    "df_plt7 = df['Year']\n",
    "df_plt7.value_counts().plot(kind='bar', figsize=(10, 6))\n",
    "\n",
    "plt.xlabel('') # add to x-label to the plot\n",
    "plt.ylabel('Count') # add y-label to the plot\n",
    "plt.title('Year') # add title to the plot\n",
    "plt.show()"
   ]
  },
  {
   "cell_type": "code",
   "execution_count": 29,
   "metadata": {},
   "outputs": [
    {
     "data": {
      "image/png": "[encoded data removed]",
      "text/plain": [
       "<Figure size 720x432 with 1 Axes>"
      ]
     },
     "metadata": {
      "needs_background": "light"
     },
     "output_type": "display_data"
    }
   ],
   "source": [
    "df_plt8 = df['Month']\n",
    "df_plt8.value_counts().plot(kind='bar', figsize=(10, 6))\n",
    "\n",
    "plt.xlabel('') # add to x-label to the plot\n",
    "plt.ylabel('Count') # add y-label to the plot\n",
    "plt.title('Month') # add title to the plot\n",
    "plt.show()"
   ]
  },
  {
   "cell_type": "code",
   "execution_count": 30,
   "metadata": {},
   "outputs": [
    {
     "data": {
      "image/png": "[encoded data removed]",
      "text/plain": [
       "<Figure size 720x432 with 1 Axes>"
      ]
     },
     "metadata": {
      "needs_background": "light"
     },
     "output_type": "display_data"
    }
   ],
   "source": [
    "df_plt9 = df['weekend']\n",
    "df_plt9.value_counts().plot(kind='bar', figsize=(10, 6))\n",
    "\n",
    "plt.xlabel('') # add to x-label to the plot\n",
    "plt.ylabel('Count') # add y-label to the plot\n",
    "plt.title('Weekend') # add title to the plot\n",
    "plt.savefig('Weekend.png')\n",
    "\n",
    "plt.show()"
   ]
  },
  {
   "cell_type": "code",
   "execution_count": 31,
   "metadata": {},
   "outputs": [
    {
     "data": {
      "image/png": "[encoded data removed]",
      "text/plain": [
       "<Figure size 720x432 with 1 Axes>"
      ]
     },
     "metadata": {
      "needs_background": "light"
     },
     "output_type": "display_data"
    }
   ],
   "source": [
    "df_plt10 = df['hours']\n",
    "df_plt10.value_counts().plot(kind='bar', figsize=(10, 6))\n",
    "\n",
    "plt.xlabel('Time of the accident(Hour)') # add to x-label to the plot\n",
    "plt.ylabel('Count') # add y-label to the plot\n",
    "plt.title('Time') # add title to the plot\n",
    "plt.xticks(rotation='horizontal')\n",
    "plt.savefig('Hour.png')\n",
    "plt.show()"
   ]
  },
  {
   "cell_type": "code",
   "execution_count": 32,
   "metadata": {},
   "outputs": [
    {
     "data": {
      "image/png": "[encoded data removed]",
      "text/plain": [
       "<Figure size 1008x576 with 1 Axes>"
      ]
     },
     "metadata": {
      "needs_background": "light"
     },
     "output_type": "display_data"
    }
   ],
   "source": [
    "ax = df.groupby(['day_of_week','SEVERITYDESC'])['day_of_week'].count().unstack(0).plot.bar(title=\"Day of the week and severity of collision\", figsize=(14,8))\n",
    "ax.set_xlabel('')\n",
    "ax.set_ylabel('Frequency')\n",
    "plt.xticks(rotation='horizontal')\n",
    "plt.savefig('Dayofweek.png')"
   ]
  },
  {
   "cell_type": "markdown",
   "metadata": {},
   "source": [
    "## Scatter plot reveals the map of Seattle"
   ]
  },
  {
   "cell_type": "code",
   "execution_count": 33,
   "metadata": {},
   "outputs": [
    {
     "data": {
      "image/png": "[encoded data removed]",
      "text/plain": [
       "<Figure size 648x864 with 1 Axes>"
      ]
     },
     "metadata": {
      "needs_background": "light"
     },
     "output_type": "display_data"
    }
   ],
   "source": [
    "fig, axes = plt.subplots(figsize=(9,12))\n",
    "axes.scatter(df.X, df.Y, s=0.1, alpha=0.5, c='b')\n",
    "plt.show()\n",
    "fig.savefig('ScatterCityGraph.png')"
   ]
  },
  {
   "cell_type": "code",
   "execution_count": 34,
   "metadata": {},
   "outputs": [
    {
     "name": "stdout",
     "output_type": "stream",
     "text": [
      "SEVERITYCODE               int64\n",
      "X                        float64\n",
      "Y                        float64\n",
      "ADDRTYPE                  object\n",
      "SEVERITYDESC              object\n",
      "COLLISIONTYPE             object\n",
      "PERSONCOUNT                int64\n",
      "PEDCOUNT                   int64\n",
      "PEDCYLCOUNT                int64\n",
      "VEHCOUNT                   int64\n",
      "INCDATE                   object\n",
      "INCDTTM           datetime64[ns]\n",
      "JUNCTIONTYPE              object\n",
      "SDOT_COLDESC              object\n",
      "INATTENTIONIND            object\n",
      "UNDERINFL                 object\n",
      "WEATHER                   object\n",
      "ROADCOND                  object\n",
      "LIGHTCOND                 object\n",
      "PEDROWNOTGRNT             object\n",
      "SPEEDING                  object\n",
      "ST_COLDESC                object\n",
      "HITPARKEDCAR              object\n",
      "Day                        int64\n",
      "Month                      int64\n",
      "Year                       int64\n",
      "day_of_week               object\n",
      "weekend                    int64\n",
      "hours                      int64\n",
      "dtype: object\n"
     ]
    }
   ],
   "source": [
    "print(df.dtypes)"
   ]
  },
  {
   "cell_type": "code",
   "execution_count": 35,
   "metadata": {},
   "outputs": [],
   "source": [
    "df.drop([\"INCDATE\",\"Day\",\"INCDTTM\",\"SEVERITYDESC\",\"Year\",\"day_of_week\"], axis = 1 , inplace = True)"
   ]
  },
  {
   "cell_type": "markdown",
   "metadata": {},
   "source": [
    "## Normalize data"
   ]
  },
  {
   "cell_type": "code",
   "execution_count": 36,
   "metadata": {},
   "outputs": [
    {
     "name": "stdout",
     "output_type": "stream",
     "text": [
      "Objects Index(['ADDRTYPE', 'COLLISIONTYPE', 'JUNCTIONTYPE', 'SDOT_COLDESC',\n",
      "       'INATTENTIONIND', 'UNDERINFL', 'WEATHER', 'ROADCOND', 'LIGHTCOND',\n",
      "       'PEDROWNOTGRNT', 'SPEEDING', 'ST_COLDESC', 'HITPARKEDCAR'],\n",
      "      dtype='object')\n",
      "\n",
      "NonObjects Index(['SEVERITYCODE', 'X', 'Y', 'PERSONCOUNT', 'PEDCOUNT', 'PEDCYLCOUNT',\n",
      "       'VEHCOUNT', 'Month', 'weekend', 'hours'],\n",
      "      dtype='object')\n",
      "(180067, 23)\n",
      "(180067, 13)\n",
      "(180067, 10)\n"
     ]
    }
   ],
   "source": [
    "#separate dtypes\n",
    "notif=df.select_dtypes(exclude=['int','float','int64'])\n",
    "intfldtypes = df.select_dtypes(include=['int','float','int64'])\n",
    "print('Objects',notif.columns)\n",
    "print(\"\\nNonObjects\",intfldtypes.columns)\n",
    "\n",
    "#checking to make sure all are accounted for\n",
    "print(df.shape)\n",
    "print(notif.shape)\n",
    "print(intfldtypes.shape)\n"
   ]
  },
  {
   "cell_type": "code",
   "execution_count": 37,
   "metadata": {},
   "outputs": [
    {
     "name": "stdout",
     "output_type": "stream",
     "text": [
      "(180067, 23)\n"
     ]
    }
   ],
   "source": [
    "#label encode objects to convert npn numeric value to numeric value\n",
    "obj_le= notif.apply(LabelEncoder().fit_transform)\n",
    "#re-add with non-objects\n",
    "df_ml= pd.concat([obj_le,intfldtypes], axis=1, sort=False)\n",
    "#check shape\n",
    "print(df_ml.shape)"
   ]
  },
  {
   "cell_type": "code",
   "execution_count": 38,
   "metadata": {},
   "outputs": [
    {
     "data": {
      "text/html": [
       "<div>\n",
       "<style scoped>\n",
       "    .dataframe tbody tr th:only-of-type {\n",
       "        vertical-align: middle;\n",
       "    }\n",
       "\n",
       "    .dataframe tbody tr th {\n",
       "        vertical-align: top;\n",
       "    }\n",
       "\n",
       "    .dataframe thead th {\n",
       "        text-align: right;\n",
       "    }\n",
       "</style>\n",
       "<table border=\"1\" class=\"dataframe\">\n",
       "  <thead>\n",
       "    <tr style=\"text-align: right;\">\n",
       "      <th></th>\n",
       "      <th>ADDRTYPE</th>\n",
       "      <th>COLLISIONTYPE</th>\n",
       "      <th>JUNCTIONTYPE</th>\n",
       "      <th>SDOT_COLDESC</th>\n",
       "      <th>INATTENTIONIND</th>\n",
       "      <th>UNDERINFL</th>\n",
       "      <th>WEATHER</th>\n",
       "      <th>ROADCOND</th>\n",
       "      <th>LIGHTCOND</th>\n",
       "      <th>PEDROWNOTGRNT</th>\n",
       "      <th>SPEEDING</th>\n",
       "      <th>ST_COLDESC</th>\n",
       "      <th>HITPARKEDCAR</th>\n",
       "      <th>SEVERITYCODE</th>\n",
       "      <th>X</th>\n",
       "      <th>Y</th>\n",
       "      <th>PERSONCOUNT</th>\n",
       "      <th>PEDCOUNT</th>\n",
       "      <th>PEDCYLCOUNT</th>\n",
       "      <th>VEHCOUNT</th>\n",
       "      <th>Month</th>\n",
       "      <th>weekend</th>\n",
       "      <th>hours</th>\n",
       "    </tr>\n",
       "  </thead>\n",
       "  <tbody>\n",
       "    <tr>\n",
       "      <th>0</th>\n",
       "      <td>1</td>\n",
       "      <td>0</td>\n",
       "      <td>1</td>\n",
       "      <td>14</td>\n",
       "      <td>0</td>\n",
       "      <td>0</td>\n",
       "      <td>4</td>\n",
       "      <td>8</td>\n",
       "      <td>5</td>\n",
       "      <td>0</td>\n",
       "      <td>0</td>\n",
       "      <td>4</td>\n",
       "      <td>0</td>\n",
       "      <td>2</td>\n",
       "      <td>-122.323148</td>\n",
       "      <td>47.703140</td>\n",
       "      <td>2</td>\n",
       "      <td>0</td>\n",
       "      <td>0</td>\n",
       "      <td>2</td>\n",
       "      <td>3</td>\n",
       "      <td>0</td>\n",
       "      <td>14</td>\n",
       "    </tr>\n",
       "    <tr>\n",
       "      <th>1</th>\n",
       "      <td>0</td>\n",
       "      <td>9</td>\n",
       "      <td>4</td>\n",
       "      <td>16</td>\n",
       "      <td>0</td>\n",
       "      <td>0</td>\n",
       "      <td>6</td>\n",
       "      <td>8</td>\n",
       "      <td>2</td>\n",
       "      <td>0</td>\n",
       "      <td>0</td>\n",
       "      <td>16</td>\n",
       "      <td>0</td>\n",
       "      <td>1</td>\n",
       "      <td>-122.347294</td>\n",
       "      <td>47.647172</td>\n",
       "      <td>2</td>\n",
       "      <td>0</td>\n",
       "      <td>0</td>\n",
       "      <td>2</td>\n",
       "      <td>12</td>\n",
       "      <td>0</td>\n",
       "      <td>18</td>\n",
       "    </tr>\n",
       "    <tr>\n",
       "      <th>2</th>\n",
       "      <td>0</td>\n",
       "      <td>5</td>\n",
       "      <td>4</td>\n",
       "      <td>17</td>\n",
       "      <td>0</td>\n",
       "      <td>0</td>\n",
       "      <td>4</td>\n",
       "      <td>0</td>\n",
       "      <td>5</td>\n",
       "      <td>0</td>\n",
       "      <td>0</td>\n",
       "      <td>27</td>\n",
       "      <td>0</td>\n",
       "      <td>1</td>\n",
       "      <td>-122.334540</td>\n",
       "      <td>47.607871</td>\n",
       "      <td>4</td>\n",
       "      <td>0</td>\n",
       "      <td>0</td>\n",
       "      <td>3</td>\n",
       "      <td>11</td>\n",
       "      <td>0</td>\n",
       "      <td>10</td>\n",
       "    </tr>\n",
       "    <tr>\n",
       "      <th>3</th>\n",
       "      <td>0</td>\n",
       "      <td>4</td>\n",
       "      <td>4</td>\n",
       "      <td>14</td>\n",
       "      <td>0</td>\n",
       "      <td>0</td>\n",
       "      <td>1</td>\n",
       "      <td>0</td>\n",
       "      <td>5</td>\n",
       "      <td>0</td>\n",
       "      <td>0</td>\n",
       "      <td>14</td>\n",
       "      <td>0</td>\n",
       "      <td>1</td>\n",
       "      <td>-122.334803</td>\n",
       "      <td>47.604803</td>\n",
       "      <td>3</td>\n",
       "      <td>0</td>\n",
       "      <td>0</td>\n",
       "      <td>3</td>\n",
       "      <td>3</td>\n",
       "      <td>1</td>\n",
       "      <td>9</td>\n",
       "    </tr>\n",
       "    <tr>\n",
       "      <th>4</th>\n",
       "      <td>1</td>\n",
       "      <td>0</td>\n",
       "      <td>1</td>\n",
       "      <td>14</td>\n",
       "      <td>0</td>\n",
       "      <td>0</td>\n",
       "      <td>6</td>\n",
       "      <td>8</td>\n",
       "      <td>5</td>\n",
       "      <td>0</td>\n",
       "      <td>0</td>\n",
       "      <td>4</td>\n",
       "      <td>0</td>\n",
       "      <td>2</td>\n",
       "      <td>-122.306426</td>\n",
       "      <td>47.545739</td>\n",
       "      <td>2</td>\n",
       "      <td>0</td>\n",
       "      <td>0</td>\n",
       "      <td>2</td>\n",
       "      <td>1</td>\n",
       "      <td>0</td>\n",
       "      <td>8</td>\n",
       "    </tr>\n",
       "    <tr>\n",
       "      <th>...</th>\n",
       "      <td>...</td>\n",
       "      <td>...</td>\n",
       "      <td>...</td>\n",
       "      <td>...</td>\n",
       "      <td>...</td>\n",
       "      <td>...</td>\n",
       "      <td>...</td>\n",
       "      <td>...</td>\n",
       "      <td>...</td>\n",
       "      <td>...</td>\n",
       "      <td>...</td>\n",
       "      <td>...</td>\n",
       "      <td>...</td>\n",
       "      <td>...</td>\n",
       "      <td>...</td>\n",
       "      <td>...</td>\n",
       "      <td>...</td>\n",
       "      <td>...</td>\n",
       "      <td>...</td>\n",
       "      <td>...</td>\n",
       "      <td>...</td>\n",
       "      <td>...</td>\n",
       "      <td>...</td>\n",
       "    </tr>\n",
       "    <tr>\n",
       "      <th>194668</th>\n",
       "      <td>0</td>\n",
       "      <td>2</td>\n",
       "      <td>4</td>\n",
       "      <td>14</td>\n",
       "      <td>0</td>\n",
       "      <td>0</td>\n",
       "      <td>1</td>\n",
       "      <td>0</td>\n",
       "      <td>5</td>\n",
       "      <td>0</td>\n",
       "      <td>0</td>\n",
       "      <td>10</td>\n",
       "      <td>0</td>\n",
       "      <td>2</td>\n",
       "      <td>-122.290826</td>\n",
       "      <td>47.565408</td>\n",
       "      <td>3</td>\n",
       "      <td>0</td>\n",
       "      <td>0</td>\n",
       "      <td>2</td>\n",
       "      <td>11</td>\n",
       "      <td>0</td>\n",
       "      <td>8</td>\n",
       "    </tr>\n",
       "    <tr>\n",
       "      <th>194669</th>\n",
       "      <td>0</td>\n",
       "      <td>7</td>\n",
       "      <td>4</td>\n",
       "      <td>17</td>\n",
       "      <td>1</td>\n",
       "      <td>0</td>\n",
       "      <td>6</td>\n",
       "      <td>8</td>\n",
       "      <td>5</td>\n",
       "      <td>0</td>\n",
       "      <td>0</td>\n",
       "      <td>15</td>\n",
       "      <td>0</td>\n",
       "      <td>1</td>\n",
       "      <td>-122.344526</td>\n",
       "      <td>47.690924</td>\n",
       "      <td>2</td>\n",
       "      <td>0</td>\n",
       "      <td>0</td>\n",
       "      <td>2</td>\n",
       "      <td>12</td>\n",
       "      <td>0</td>\n",
       "      <td>9</td>\n",
       "    </tr>\n",
       "    <tr>\n",
       "      <th>194670</th>\n",
       "      <td>1</td>\n",
       "      <td>3</td>\n",
       "      <td>1</td>\n",
       "      <td>14</td>\n",
       "      <td>0</td>\n",
       "      <td>0</td>\n",
       "      <td>1</td>\n",
       "      <td>0</td>\n",
       "      <td>5</td>\n",
       "      <td>0</td>\n",
       "      <td>0</td>\n",
       "      <td>12</td>\n",
       "      <td>0</td>\n",
       "      <td>2</td>\n",
       "      <td>-122.306689</td>\n",
       "      <td>47.683047</td>\n",
       "      <td>3</td>\n",
       "      <td>0</td>\n",
       "      <td>0</td>\n",
       "      <td>2</td>\n",
       "      <td>1</td>\n",
       "      <td>1</td>\n",
       "      <td>9</td>\n",
       "    </tr>\n",
       "    <tr>\n",
       "      <th>194671</th>\n",
       "      <td>1</td>\n",
       "      <td>1</td>\n",
       "      <td>1</td>\n",
       "      <td>29</td>\n",
       "      <td>0</td>\n",
       "      <td>0</td>\n",
       "      <td>1</td>\n",
       "      <td>0</td>\n",
       "      <td>6</td>\n",
       "      <td>0</td>\n",
       "      <td>0</td>\n",
       "      <td>52</td>\n",
       "      <td>0</td>\n",
       "      <td>2</td>\n",
       "      <td>-122.355317</td>\n",
       "      <td>47.678734</td>\n",
       "      <td>2</td>\n",
       "      <td>0</td>\n",
       "      <td>1</td>\n",
       "      <td>1</td>\n",
       "      <td>1</td>\n",
       "      <td>0</td>\n",
       "      <td>16</td>\n",
       "    </tr>\n",
       "    <tr>\n",
       "      <th>194672</th>\n",
       "      <td>0</td>\n",
       "      <td>7</td>\n",
       "      <td>4</td>\n",
       "      <td>17</td>\n",
       "      <td>0</td>\n",
       "      <td>0</td>\n",
       "      <td>1</td>\n",
       "      <td>8</td>\n",
       "      <td>5</td>\n",
       "      <td>0</td>\n",
       "      <td>0</td>\n",
       "      <td>17</td>\n",
       "      <td>0</td>\n",
       "      <td>1</td>\n",
       "      <td>-122.289360</td>\n",
       "      <td>47.611017</td>\n",
       "      <td>2</td>\n",
       "      <td>0</td>\n",
       "      <td>0</td>\n",
       "      <td>2</td>\n",
       "      <td>11</td>\n",
       "      <td>1</td>\n",
       "      <td>15</td>\n",
       "    </tr>\n",
       "  </tbody>\n",
       "</table>\n",
       "<p>180067 rows × 23 columns</p>\n",
       "</div>"
      ],
      "text/plain": [
       "        ADDRTYPE  COLLISIONTYPE  JUNCTIONTYPE  SDOT_COLDESC  INATTENTIONIND  \\\n",
       "0              1              0             1            14               0   \n",
       "1              0              9             4            16               0   \n",
       "2              0              5             4            17               0   \n",
       "3              0              4             4            14               0   \n",
       "4              1              0             1            14               0   \n",
       "...          ...            ...           ...           ...             ...   \n",
       "194668         0              2             4            14               0   \n",
       "194669         0              7             4            17               1   \n",
       "194670         1              3             1            14               0   \n",
       "194671         1              1             1            29               0   \n",
       "194672         0              7             4            17               0   \n",
       "\n",
       "        UNDERINFL  WEATHER  ROADCOND  LIGHTCOND  PEDROWNOTGRNT  SPEEDING  \\\n",
       "0               0        4         8          5              0         0   \n",
       "1               0        6         8          2              0         0   \n",
       "2               0        4         0          5              0         0   \n",
       "3               0        1         0          5              0         0   \n",
       "4               0        6         8          5              0         0   \n",
       "...           ...      ...       ...        ...            ...       ...   \n",
       "194668          0        1         0          5              0         0   \n",
       "194669          0        6         8          5              0         0   \n",
       "194670          0        1         0          5              0         0   \n",
       "194671          0        1         0          6              0         0   \n",
       "194672          0        1         8          5              0         0   \n",
       "\n",
       "        ST_COLDESC  HITPARKEDCAR  SEVERITYCODE           X          Y  \\\n",
       "0                4             0             2 -122.323148  47.703140   \n",
       "1               16             0             1 -122.347294  47.647172   \n",
       "2               27             0             1 -122.334540  47.607871   \n",
       "3               14             0             1 -122.334803  47.604803   \n",
       "4                4             0             2 -122.306426  47.545739   \n",
       "...            ...           ...           ...         ...        ...   \n",
       "194668          10             0             2 -122.290826  47.565408   \n",
       "194669          15             0             1 -122.344526  47.690924   \n",
       "194670          12             0             2 -122.306689  47.683047   \n",
       "194671          52             0             2 -122.355317  47.678734   \n",
       "194672          17             0             1 -122.289360  47.611017   \n",
       "\n",
       "        PERSONCOUNT  PEDCOUNT  PEDCYLCOUNT  VEHCOUNT  Month  weekend  hours  \n",
       "0                 2         0            0         2      3        0     14  \n",
       "1                 2         0            0         2     12        0     18  \n",
       "2                 4         0            0         3     11        0     10  \n",
       "3                 3         0            0         3      3        1      9  \n",
       "4                 2         0            0         2      1        0      8  \n",
       "...             ...       ...          ...       ...    ...      ...    ...  \n",
       "194668            3         0            0         2     11        0      8  \n",
       "194669            2         0            0         2     12        0      9  \n",
       "194670            3         0            0         2      1        1      9  \n",
       "194671            2         0            1         1      1        0     16  \n",
       "194672            2         0            0         2     11        1     15  \n",
       "\n",
       "[180067 rows x 23 columns]"
      ]
     },
     "execution_count": 38,
     "metadata": {},
     "output_type": "execute_result"
    }
   ],
   "source": [
    "df_ml"
   ]
  },
  {
   "cell_type": "code",
   "execution_count": 39,
   "metadata": {},
   "outputs": [],
   "source": [
    "from sklearn import preprocessing\n",
    "\n",
    "severity_code = df_ml['SEVERITYCODE'].values\n",
    "\n",
    "labels = preprocessing.LabelEncoder()\n",
    "labels.fit([1, 2])\n",
    "severity_code = labels.transform (severity_code)\n",
    "\n",
    "df_ml [\"SEVERITYCODE\"] = severity_code"
   ]
  },
  {
   "cell_type": "markdown",
   "metadata": {},
   "source": [
    "## Machine learning Algorithm"
   ]
  },
  {
   "cell_type": "code",
   "execution_count": 40,
   "metadata": {},
   "outputs": [],
   "source": [
    "\n",
    "X = df_ml.drop('SEVERITYCODE',axis=1)\n",
    "y = df_ml['SEVERITYCODE']"
   ]
  },
  {
   "cell_type": "code",
   "execution_count": 41,
   "metadata": {},
   "outputs": [
    {
     "data": {
      "text/plain": [
       "0    124258\n",
       "1     55809\n",
       "Name: SEVERITYCODE, dtype: int64"
      ]
     },
     "execution_count": 41,
     "metadata": {},
     "output_type": "execute_result"
    }
   ],
   "source": [
    "df_ml.SEVERITYCODE.value_counts()"
   ]
  },
  {
   "cell_type": "code",
   "execution_count": 42,
   "metadata": {},
   "outputs": [
    {
     "data": {
      "text/html": [
       "<div>\n",
       "<style scoped>\n",
       "    .dataframe tbody tr th:only-of-type {\n",
       "        vertical-align: middle;\n",
       "    }\n",
       "\n",
       "    .dataframe tbody tr th {\n",
       "        vertical-align: top;\n",
       "    }\n",
       "\n",
       "    .dataframe thead th {\n",
       "        text-align: right;\n",
       "    }\n",
       "</style>\n",
       "<table border=\"1\" class=\"dataframe\">\n",
       "  <thead>\n",
       "    <tr style=\"text-align: right;\">\n",
       "      <th></th>\n",
       "      <th>ADDRTYPE</th>\n",
       "      <th>COLLISIONTYPE</th>\n",
       "      <th>JUNCTIONTYPE</th>\n",
       "      <th>SDOT_COLDESC</th>\n",
       "      <th>INATTENTIONIND</th>\n",
       "      <th>UNDERINFL</th>\n",
       "      <th>WEATHER</th>\n",
       "      <th>ROADCOND</th>\n",
       "      <th>LIGHTCOND</th>\n",
       "      <th>PEDROWNOTGRNT</th>\n",
       "      <th>SPEEDING</th>\n",
       "      <th>ST_COLDESC</th>\n",
       "      <th>HITPARKEDCAR</th>\n",
       "      <th>SEVERITYCODE</th>\n",
       "      <th>X</th>\n",
       "      <th>Y</th>\n",
       "      <th>PERSONCOUNT</th>\n",
       "      <th>PEDCOUNT</th>\n",
       "      <th>PEDCYLCOUNT</th>\n",
       "      <th>VEHCOUNT</th>\n",
       "      <th>Month</th>\n",
       "      <th>weekend</th>\n",
       "      <th>hours</th>\n",
       "    </tr>\n",
       "  </thead>\n",
       "  <tbody>\n",
       "    <tr>\n",
       "      <th>0</th>\n",
       "      <td>1</td>\n",
       "      <td>0</td>\n",
       "      <td>1</td>\n",
       "      <td>14</td>\n",
       "      <td>0</td>\n",
       "      <td>0</td>\n",
       "      <td>4</td>\n",
       "      <td>8</td>\n",
       "      <td>5</td>\n",
       "      <td>0</td>\n",
       "      <td>0</td>\n",
       "      <td>4</td>\n",
       "      <td>0</td>\n",
       "      <td>1</td>\n",
       "      <td>-122.323148</td>\n",
       "      <td>47.703140</td>\n",
       "      <td>2</td>\n",
       "      <td>0</td>\n",
       "      <td>0</td>\n",
       "      <td>2</td>\n",
       "      <td>3</td>\n",
       "      <td>0</td>\n",
       "      <td>14</td>\n",
       "    </tr>\n",
       "    <tr>\n",
       "      <th>1</th>\n",
       "      <td>0</td>\n",
       "      <td>9</td>\n",
       "      <td>4</td>\n",
       "      <td>16</td>\n",
       "      <td>0</td>\n",
       "      <td>0</td>\n",
       "      <td>6</td>\n",
       "      <td>8</td>\n",
       "      <td>2</td>\n",
       "      <td>0</td>\n",
       "      <td>0</td>\n",
       "      <td>16</td>\n",
       "      <td>0</td>\n",
       "      <td>0</td>\n",
       "      <td>-122.347294</td>\n",
       "      <td>47.647172</td>\n",
       "      <td>2</td>\n",
       "      <td>0</td>\n",
       "      <td>0</td>\n",
       "      <td>2</td>\n",
       "      <td>12</td>\n",
       "      <td>0</td>\n",
       "      <td>18</td>\n",
       "    </tr>\n",
       "    <tr>\n",
       "      <th>2</th>\n",
       "      <td>0</td>\n",
       "      <td>5</td>\n",
       "      <td>4</td>\n",
       "      <td>17</td>\n",
       "      <td>0</td>\n",
       "      <td>0</td>\n",
       "      <td>4</td>\n",
       "      <td>0</td>\n",
       "      <td>5</td>\n",
       "      <td>0</td>\n",
       "      <td>0</td>\n",
       "      <td>27</td>\n",
       "      <td>0</td>\n",
       "      <td>0</td>\n",
       "      <td>-122.334540</td>\n",
       "      <td>47.607871</td>\n",
       "      <td>4</td>\n",
       "      <td>0</td>\n",
       "      <td>0</td>\n",
       "      <td>3</td>\n",
       "      <td>11</td>\n",
       "      <td>0</td>\n",
       "      <td>10</td>\n",
       "    </tr>\n",
       "    <tr>\n",
       "      <th>3</th>\n",
       "      <td>0</td>\n",
       "      <td>4</td>\n",
       "      <td>4</td>\n",
       "      <td>14</td>\n",
       "      <td>0</td>\n",
       "      <td>0</td>\n",
       "      <td>1</td>\n",
       "      <td>0</td>\n",
       "      <td>5</td>\n",
       "      <td>0</td>\n",
       "      <td>0</td>\n",
       "      <td>14</td>\n",
       "      <td>0</td>\n",
       "      <td>0</td>\n",
       "      <td>-122.334803</td>\n",
       "      <td>47.604803</td>\n",
       "      <td>3</td>\n",
       "      <td>0</td>\n",
       "      <td>0</td>\n",
       "      <td>3</td>\n",
       "      <td>3</td>\n",
       "      <td>1</td>\n",
       "      <td>9</td>\n",
       "    </tr>\n",
       "    <tr>\n",
       "      <th>4</th>\n",
       "      <td>1</td>\n",
       "      <td>0</td>\n",
       "      <td>1</td>\n",
       "      <td>14</td>\n",
       "      <td>0</td>\n",
       "      <td>0</td>\n",
       "      <td>6</td>\n",
       "      <td>8</td>\n",
       "      <td>5</td>\n",
       "      <td>0</td>\n",
       "      <td>0</td>\n",
       "      <td>4</td>\n",
       "      <td>0</td>\n",
       "      <td>1</td>\n",
       "      <td>-122.306426</td>\n",
       "      <td>47.545739</td>\n",
       "      <td>2</td>\n",
       "      <td>0</td>\n",
       "      <td>0</td>\n",
       "      <td>2</td>\n",
       "      <td>1</td>\n",
       "      <td>0</td>\n",
       "      <td>8</td>\n",
       "    </tr>\n",
       "    <tr>\n",
       "      <th>...</th>\n",
       "      <td>...</td>\n",
       "      <td>...</td>\n",
       "      <td>...</td>\n",
       "      <td>...</td>\n",
       "      <td>...</td>\n",
       "      <td>...</td>\n",
       "      <td>...</td>\n",
       "      <td>...</td>\n",
       "      <td>...</td>\n",
       "      <td>...</td>\n",
       "      <td>...</td>\n",
       "      <td>...</td>\n",
       "      <td>...</td>\n",
       "      <td>...</td>\n",
       "      <td>...</td>\n",
       "      <td>...</td>\n",
       "      <td>...</td>\n",
       "      <td>...</td>\n",
       "      <td>...</td>\n",
       "      <td>...</td>\n",
       "      <td>...</td>\n",
       "      <td>...</td>\n",
       "      <td>...</td>\n",
       "    </tr>\n",
       "    <tr>\n",
       "      <th>194668</th>\n",
       "      <td>0</td>\n",
       "      <td>2</td>\n",
       "      <td>4</td>\n",
       "      <td>14</td>\n",
       "      <td>0</td>\n",
       "      <td>0</td>\n",
       "      <td>1</td>\n",
       "      <td>0</td>\n",
       "      <td>5</td>\n",
       "      <td>0</td>\n",
       "      <td>0</td>\n",
       "      <td>10</td>\n",
       "      <td>0</td>\n",
       "      <td>1</td>\n",
       "      <td>-122.290826</td>\n",
       "      <td>47.565408</td>\n",
       "      <td>3</td>\n",
       "      <td>0</td>\n",
       "      <td>0</td>\n",
       "      <td>2</td>\n",
       "      <td>11</td>\n",
       "      <td>0</td>\n",
       "      <td>8</td>\n",
       "    </tr>\n",
       "    <tr>\n",
       "      <th>194669</th>\n",
       "      <td>0</td>\n",
       "      <td>7</td>\n",
       "      <td>4</td>\n",
       "      <td>17</td>\n",
       "      <td>1</td>\n",
       "      <td>0</td>\n",
       "      <td>6</td>\n",
       "      <td>8</td>\n",
       "      <td>5</td>\n",
       "      <td>0</td>\n",
       "      <td>0</td>\n",
       "      <td>15</td>\n",
       "      <td>0</td>\n",
       "      <td>0</td>\n",
       "      <td>-122.344526</td>\n",
       "      <td>47.690924</td>\n",
       "      <td>2</td>\n",
       "      <td>0</td>\n",
       "      <td>0</td>\n",
       "      <td>2</td>\n",
       "      <td>12</td>\n",
       "      <td>0</td>\n",
       "      <td>9</td>\n",
       "    </tr>\n",
       "    <tr>\n",
       "      <th>194670</th>\n",
       "      <td>1</td>\n",
       "      <td>3</td>\n",
       "      <td>1</td>\n",
       "      <td>14</td>\n",
       "      <td>0</td>\n",
       "      <td>0</td>\n",
       "      <td>1</td>\n",
       "      <td>0</td>\n",
       "      <td>5</td>\n",
       "      <td>0</td>\n",
       "      <td>0</td>\n",
       "      <td>12</td>\n",
       "      <td>0</td>\n",
       "      <td>1</td>\n",
       "      <td>-122.306689</td>\n",
       "      <td>47.683047</td>\n",
       "      <td>3</td>\n",
       "      <td>0</td>\n",
       "      <td>0</td>\n",
       "      <td>2</td>\n",
       "      <td>1</td>\n",
       "      <td>1</td>\n",
       "      <td>9</td>\n",
       "    </tr>\n",
       "    <tr>\n",
       "      <th>194671</th>\n",
       "      <td>1</td>\n",
       "      <td>1</td>\n",
       "      <td>1</td>\n",
       "      <td>29</td>\n",
       "      <td>0</td>\n",
       "      <td>0</td>\n",
       "      <td>1</td>\n",
       "      <td>0</td>\n",
       "      <td>6</td>\n",
       "      <td>0</td>\n",
       "      <td>0</td>\n",
       "      <td>52</td>\n",
       "      <td>0</td>\n",
       "      <td>1</td>\n",
       "      <td>-122.355317</td>\n",
       "      <td>47.678734</td>\n",
       "      <td>2</td>\n",
       "      <td>0</td>\n",
       "      <td>1</td>\n",
       "      <td>1</td>\n",
       "      <td>1</td>\n",
       "      <td>0</td>\n",
       "      <td>16</td>\n",
       "    </tr>\n",
       "    <tr>\n",
       "      <th>194672</th>\n",
       "      <td>0</td>\n",
       "      <td>7</td>\n",
       "      <td>4</td>\n",
       "      <td>17</td>\n",
       "      <td>0</td>\n",
       "      <td>0</td>\n",
       "      <td>1</td>\n",
       "      <td>8</td>\n",
       "      <td>5</td>\n",
       "      <td>0</td>\n",
       "      <td>0</td>\n",
       "      <td>17</td>\n",
       "      <td>0</td>\n",
       "      <td>0</td>\n",
       "      <td>-122.289360</td>\n",
       "      <td>47.611017</td>\n",
       "      <td>2</td>\n",
       "      <td>0</td>\n",
       "      <td>0</td>\n",
       "      <td>2</td>\n",
       "      <td>11</td>\n",
       "      <td>1</td>\n",
       "      <td>15</td>\n",
       "    </tr>\n",
       "  </tbody>\n",
       "</table>\n",
       "<p>180067 rows × 23 columns</p>\n",
       "</div>"
      ],
      "text/plain": [
       "        ADDRTYPE  COLLISIONTYPE  JUNCTIONTYPE  SDOT_COLDESC  INATTENTIONIND  \\\n",
       "0              1              0             1            14               0   \n",
       "1              0              9             4            16               0   \n",
       "2              0              5             4            17               0   \n",
       "3              0              4             4            14               0   \n",
       "4              1              0             1            14               0   \n",
       "...          ...            ...           ...           ...             ...   \n",
       "194668         0              2             4            14               0   \n",
       "194669         0              7             4            17               1   \n",
       "194670         1              3             1            14               0   \n",
       "194671         1              1             1            29               0   \n",
       "194672         0              7             4            17               0   \n",
       "\n",
       "        UNDERINFL  WEATHER  ROADCOND  LIGHTCOND  PEDROWNOTGRNT  SPEEDING  \\\n",
       "0               0        4         8          5              0         0   \n",
       "1               0        6         8          2              0         0   \n",
       "2               0        4         0          5              0         0   \n",
       "3               0        1         0          5              0         0   \n",
       "4               0        6         8          5              0         0   \n",
       "...           ...      ...       ...        ...            ...       ...   \n",
       "194668          0        1         0          5              0         0   \n",
       "194669          0        6         8          5              0         0   \n",
       "194670          0        1         0          5              0         0   \n",
       "194671          0        1         0          6              0         0   \n",
       "194672          0        1         8          5              0         0   \n",
       "\n",
       "        ST_COLDESC  HITPARKEDCAR  SEVERITYCODE           X          Y  \\\n",
       "0                4             0             1 -122.323148  47.703140   \n",
       "1               16             0             0 -122.347294  47.647172   \n",
       "2               27             0             0 -122.334540  47.607871   \n",
       "3               14             0             0 -122.334803  47.604803   \n",
       "4                4             0             1 -122.306426  47.545739   \n",
       "...            ...           ...           ...         ...        ...   \n",
       "194668          10             0             1 -122.290826  47.565408   \n",
       "194669          15             0             0 -122.344526  47.690924   \n",
       "194670          12             0             1 -122.306689  47.683047   \n",
       "194671          52             0             1 -122.355317  47.678734   \n",
       "194672          17             0             0 -122.289360  47.611017   \n",
       "\n",
       "        PERSONCOUNT  PEDCOUNT  PEDCYLCOUNT  VEHCOUNT  Month  weekend  hours  \n",
       "0                 2         0            0         2      3        0     14  \n",
       "1                 2         0            0         2     12        0     18  \n",
       "2                 4         0            0         3     11        0     10  \n",
       "3                 3         0            0         3      3        1      9  \n",
       "4                 2         0            0         2      1        0      8  \n",
       "...             ...       ...          ...       ...    ...      ...    ...  \n",
       "194668            3         0            0         2     11        0      8  \n",
       "194669            2         0            0         2     12        0      9  \n",
       "194670            3         0            0         2      1        1      9  \n",
       "194671            2         0            1         1      1        0     16  \n",
       "194672            2         0            0         2     11        1     15  \n",
       "\n",
       "[180067 rows x 23 columns]"
      ]
     },
     "execution_count": 42,
     "metadata": {},
     "output_type": "execute_result"
    }
   ],
   "source": [
    "df_ml"
   ]
  },
  {
   "cell_type": "code",
   "execution_count": 43,
   "metadata": {},
   "outputs": [],
   "source": [
    "# setting up testing and training sets\n",
    "X_train, X_test, y_train, y_test = train_test_split(X, y, test_size=0.25, random_state=3)\n"
   ]
  },
  {
   "cell_type": "code",
   "execution_count": 44,
   "metadata": {},
   "outputs": [],
   "source": [
    "train_data = pd.concat([X_train, y_train], axis=1)"
   ]
  },
  {
   "cell_type": "code",
   "execution_count": 45,
   "metadata": {},
   "outputs": [],
   "source": [
    "# Data Imbalance in target feature must be removed \n",
    "negative = train_data[train_data.SEVERITYCODE==0]\n",
    "positive = train_data[train_data.SEVERITYCODE==1]"
   ]
  },
  {
   "cell_type": "code",
   "execution_count": 46,
   "metadata": {},
   "outputs": [],
   "source": [
    "# upsample minority\n",
    "pos_upsampled = resample(positive,\n",
    " replace=True, # sample with replacement\n",
    " n_samples=len(negative), # match number in majority class\n",
    " random_state=3) # reproducible results"
   ]
  },
  {
   "cell_type": "code",
   "execution_count": 47,
   "metadata": {},
   "outputs": [],
   "source": [
    "upsampled = pd.concat([negative, pos_upsampled])"
   ]
  },
  {
   "cell_type": "code",
   "execution_count": 48,
   "metadata": {},
   "outputs": [
    {
     "data": {
      "text/plain": [
       "1    93239\n",
       "0    93239\n",
       "Name: SEVERITYCODE, dtype: int64"
      ]
     },
     "execution_count": 48,
     "metadata": {},
     "output_type": "execute_result"
    }
   ],
   "source": [
    "upsampled.SEVERITYCODE.value_counts()"
   ]
  },
  {
   "cell_type": "code",
   "execution_count": 49,
   "metadata": {},
   "outputs": [],
   "source": [
    "res_X_train = upsampled.drop('SEVERITYCODE', axis=1)\n",
    "res_y_train = upsampled.SEVERITYCODE"
   ]
  },
  {
   "cell_type": "markdown",
   "metadata": {},
   "source": [
    "## Decision tree "
   ]
  },
  {
   "cell_type": "code",
   "execution_count": 50,
   "metadata": {},
   "outputs": [
    {
     "data": {
      "text/plain": [
       "DecisionTreeClassifier(class_weight=None, criterion='entropy', max_depth=4,\n",
       "            max_features=None, max_leaf_nodes=None,\n",
       "            min_impurity_decrease=0.0, min_impurity_split=None,\n",
       "            min_samples_leaf=1, min_samples_split=2,\n",
       "            min_weight_fraction_leaf=0.0, presort=False, random_state=None,\n",
       "            splitter='best')"
      ]
     },
     "execution_count": 50,
     "metadata": {},
     "output_type": "execute_result"
    }
   ],
   "source": [
    "crashTree = DecisionTreeClassifier(criterion=\"entropy\", max_depth = 4)\n",
    "crashTree # it shows the default parameters"
   ]
  },
  {
   "cell_type": "code",
   "execution_count": 51,
   "metadata": {},
   "outputs": [
    {
     "data": {
      "text/plain": [
       "DecisionTreeClassifier(class_weight=None, criterion='entropy', max_depth=4,\n",
       "            max_features=None, max_leaf_nodes=None,\n",
       "            min_impurity_decrease=0.0, min_impurity_split=None,\n",
       "            min_samples_leaf=1, min_samples_split=2,\n",
       "            min_weight_fraction_leaf=0.0, presort=False, random_state=None,\n",
       "            splitter='best')"
      ]
     },
     "execution_count": 51,
     "metadata": {},
     "output_type": "execute_result"
    }
   ],
   "source": [
    "crashTree.fit(res_X_train,res_y_train)"
   ]
  },
  {
   "cell_type": "code",
   "execution_count": 52,
   "metadata": {},
   "outputs": [],
   "source": [
    "predTree = crashTree.predict(X_test)"
   ]
  },
  {
   "cell_type": "code",
   "execution_count": 53,
   "metadata": {},
   "outputs": [
    {
     "name": "stdout",
     "output_type": "stream",
     "text": [
      "[0 0 0 1 0]\n",
      "46912     1\n",
      "12668     1\n",
      "191330    1\n",
      "118472    1\n",
      "121447    0\n",
      "Name: SEVERITYCODE, dtype: int64\n"
     ]
    }
   ],
   "source": [
    "print (predTree [0:5])\n",
    "print (y_test [0:5])"
   ]
  },
  {
   "cell_type": "code",
   "execution_count": 54,
   "metadata": {},
   "outputs": [
    {
     "name": "stdout",
     "output_type": "stream",
     "text": [
      "DecisionTrees's Accuracy:  0.7292356220983184\n"
     ]
    }
   ],
   "source": [
    "\n",
    "print(\"DecisionTrees's Accuracy: \", metrics.accuracy_score(y_test, predTree))"
   ]
  },
  {
   "cell_type": "code",
   "execution_count": 55,
   "metadata": {},
   "outputs": [
    {
     "data": {
      "text/plain": [
       "0.5610889056929891"
      ]
     },
     "execution_count": 55,
     "metadata": {},
     "output_type": "execute_result"
    }
   ],
   "source": [
    "from sklearn.metrics import f1_score\n",
    "score = f1_score(predTree, y_test)\n",
    "score"
   ]
  },
  {
   "cell_type": "code",
   "execution_count": 56,
   "metadata": {},
   "outputs": [
    {
     "data": {
      "text/plain": [
       "0.7292356220983184"
      ]
     },
     "execution_count": 56,
     "metadata": {},
     "output_type": "execute_result"
    }
   ],
   "source": [
    "jaccard_similarity_score(y_test, predTree)"
   ]
  },
  {
   "cell_type": "code",
   "execution_count": 57,
   "metadata": {},
   "outputs": [
    {
     "data": {
      "text/plain": [
       "0.5656719668917447"
      ]
     },
     "execution_count": 57,
     "metadata": {},
     "output_type": "execute_result"
    }
   ],
   "source": [
    "from sklearn.metrics import precision_score\n",
    "precision_score(y_test, predTree)"
   ]
  },
  {
   "cell_type": "code",
   "execution_count": 58,
   "metadata": {},
   "outputs": [
    {
     "data": {
      "text/plain": [
       "0.5565795113587655"
      ]
     },
     "execution_count": 58,
     "metadata": {},
     "output_type": "execute_result"
    }
   ],
   "source": [
    "from sklearn.metrics import recall_score\n",
    "recall_score(y_test, predTree)"
   ]
  },
  {
   "cell_type": "code",
   "execution_count": 59,
   "metadata": {},
   "outputs": [
    {
     "name": "stdout",
     "output_type": "stream",
     "text": [
      "              precision    recall  f1-score   support\n",
      "\n",
      "           0       0.80      0.81      0.80     31019\n",
      "           1       0.57      0.56      0.56     13998\n",
      "\n",
      "   micro avg       0.73      0.73      0.73     45017\n",
      "   macro avg       0.68      0.68      0.68     45017\n",
      "weighted avg       0.73      0.73      0.73     45017\n",
      "\n"
     ]
    }
   ],
   "source": [
    "from sklearn.metrics import classification_report\n",
    "print(classification_report(y_test, predTree))"
   ]
  },
  {
   "cell_type": "markdown",
   "metadata": {},
   "source": [
    "## Logistic regression"
   ]
  },
  {
   "cell_type": "code",
   "execution_count": 60,
   "metadata": {},
   "outputs": [
    {
     "data": {
      "text/plain": [
       "LogisticRegression(C=0.01, class_weight=None, dual=False, fit_intercept=True,\n",
       "          intercept_scaling=1, max_iter=100, multi_class='warn',\n",
       "          n_jobs=None, penalty='l2', random_state=None, solver='liblinear',\n",
       "          tol=0.0001, verbose=0, warm_start=False)"
      ]
     },
     "execution_count": 60,
     "metadata": {},
     "output_type": "execute_result"
    }
   ],
   "source": [
    "\n",
    "LR = LogisticRegression(C=0.01, solver='liblinear').fit(res_X_train,res_y_train)\n",
    "LR"
   ]
  },
  {
   "cell_type": "code",
   "execution_count": 61,
   "metadata": {},
   "outputs": [
    {
     "data": {
      "text/plain": [
       "array([0, 0, 1, ..., 0, 0, 0])"
      ]
     },
     "execution_count": 61,
     "metadata": {},
     "output_type": "execute_result"
    }
   ],
   "source": [
    "yhat = LR.predict(X_test)\n",
    "yhat"
   ]
  },
  {
   "cell_type": "code",
   "execution_count": 62,
   "metadata": {},
   "outputs": [
    {
     "data": {
      "text/plain": [
       "array([[0.57813334, 0.42186666],\n",
       "       [0.62575665, 0.37424335],\n",
       "       [0.47412126, 0.52587874],\n",
       "       ...,\n",
       "       [0.81643945, 0.18356055],\n",
       "       [0.6074647 , 0.3925353 ],\n",
       "       [0.57155966, 0.42844034]])"
      ]
     },
     "execution_count": 62,
     "metadata": {},
     "output_type": "execute_result"
    }
   ],
   "source": [
    "yhat_prob1 = LR.predict_proba(X_test)\n",
    "yhat_prob1"
   ]
  },
  {
   "cell_type": "code",
   "execution_count": 63,
   "metadata": {},
   "outputs": [
    {
     "data": {
      "text/plain": [
       "0.6849190305884444"
      ]
     },
     "execution_count": 63,
     "metadata": {},
     "output_type": "execute_result"
    }
   ],
   "source": [
    "jaccard_similarity_score(y_test, yhat)"
   ]
  },
  {
   "cell_type": "code",
   "execution_count": 64,
   "metadata": {},
   "outputs": [
    {
     "data": {
      "text/plain": [
       "0.5856459708436873"
      ]
     },
     "execution_count": 64,
     "metadata": {},
     "output_type": "execute_result"
    }
   ],
   "source": [
    "log_loss(y_test, yhat_prob1)"
   ]
  },
  {
   "cell_type": "code",
   "execution_count": 65,
   "metadata": {},
   "outputs": [
    {
     "data": {
      "text/plain": [
       "0.6548508174591945"
      ]
     },
     "execution_count": 65,
     "metadata": {},
     "output_type": "execute_result"
    }
   ],
   "source": [
    "score1 = f1_score(yhat, y_test, average='macro')\n",
    "score1"
   ]
  },
  {
   "cell_type": "code",
   "execution_count": 66,
   "metadata": {},
   "outputs": [
    {
     "data": {
      "text/plain": [
       "0.6849190305884444"
      ]
     },
     "execution_count": 66,
     "metadata": {},
     "output_type": "execute_result"
    }
   ],
   "source": [
    "precision_score(y_test, yhat, average='micro')"
   ]
  },
  {
   "cell_type": "code",
   "execution_count": 67,
   "metadata": {},
   "outputs": [
    {
     "data": {
      "text/plain": [
       "0.668954705438639"
      ]
     },
     "execution_count": 67,
     "metadata": {},
     "output_type": "execute_result"
    }
   ],
   "source": [
    "recall_score(y_test, yhat, average='macro')"
   ]
  },
  {
   "cell_type": "code",
   "execution_count": 68,
   "metadata": {},
   "outputs": [
    {
     "name": "stdout",
     "output_type": "stream",
     "text": [
      "              precision    recall  f1-score   support\n",
      "\n",
      "           0       0.81      0.71      0.76     31019\n",
      "           1       0.49      0.63      0.55     13998\n",
      "\n",
      "   micro avg       0.68      0.68      0.68     45017\n",
      "   macro avg       0.65      0.67      0.65     45017\n",
      "weighted avg       0.71      0.68      0.69     45017\n",
      "\n"
     ]
    }
   ],
   "source": [
    "print(classification_report(y_test, yhat))"
   ]
  },
  {
   "cell_type": "code",
   "execution_count": 69,
   "metadata": {},
   "outputs": [
    {
     "data": {
      "text/plain": [
       "LogisticRegression(C=0.01, class_weight=None, dual=False, fit_intercept=True,\n",
       "          intercept_scaling=1, max_iter=100, multi_class='warn',\n",
       "          n_jobs=None, penalty='l2', random_state=None, solver='sag',\n",
       "          tol=0.0001, verbose=0, warm_start=False)"
      ]
     },
     "execution_count": 69,
     "metadata": {},
     "output_type": "execute_result"
    }
   ],
   "source": [
    "# Logistic regression with a different solver\n",
    "LR2 = LogisticRegression(C=0.01, solver='sag').fit(res_X_train,res_y_train)\n",
    "LR2"
   ]
  },
  {
   "cell_type": "code",
   "execution_count": 70,
   "metadata": {},
   "outputs": [
    {
     "data": {
      "text/plain": [
       "array([0, 0, 1, ..., 0, 0, 0])"
      ]
     },
     "execution_count": 70,
     "metadata": {},
     "output_type": "execute_result"
    }
   ],
   "source": [
    "yhat2 = LR.predict(X_test)\n",
    "yhat2"
   ]
  },
  {
   "cell_type": "code",
   "execution_count": 71,
   "metadata": {},
   "outputs": [
    {
     "data": {
      "text/plain": [
       "array([[0.57815096, 0.42184904],\n",
       "       [0.62568273, 0.37431727],\n",
       "       [0.47412495, 0.52587505],\n",
       "       ...,\n",
       "       [0.81650128, 0.18349872],\n",
       "       [0.60758297, 0.39241703],\n",
       "       [0.57158959, 0.42841041]])"
      ]
     },
     "execution_count": 71,
     "metadata": {},
     "output_type": "execute_result"
    }
   ],
   "source": [
    "yhat_prob2 = LR2.predict_proba(X_test)\n",
    "yhat_prob2"
   ]
  },
  {
   "cell_type": "code",
   "execution_count": 72,
   "metadata": {},
   "outputs": [
    {
     "data": {
      "text/plain": [
       "0.6849190305884444"
      ]
     },
     "execution_count": 72,
     "metadata": {},
     "output_type": "execute_result"
    }
   ],
   "source": [
    "jaccard_similarity_score(y_test, yhat2)"
   ]
  },
  {
   "cell_type": "code",
   "execution_count": 73,
   "metadata": {},
   "outputs": [
    {
     "name": "stdout",
     "output_type": "stream",
     "text": [
      "LogLoss: : 0.59\n"
     ]
    }
   ],
   "source": [
    "print (\"LogLoss: : %.2f\" % log_loss(y_test, yhat_prob2))"
   ]
  },
  {
   "cell_type": "code",
   "execution_count": 74,
   "metadata": {},
   "outputs": [
    {
     "data": {
      "text/plain": [
       "0.5529782540182793"
      ]
     },
     "execution_count": 74,
     "metadata": {},
     "output_type": "execute_result"
    }
   ],
   "source": [
    "score2 = f1_score(yhat2, y_test)\n",
    "score2"
   ]
  },
  {
   "cell_type": "markdown",
   "metadata": {},
   "source": [
    "## ROC CURVE"
   ]
  },
  {
   "cell_type": "code",
   "execution_count": 75,
   "metadata": {},
   "outputs": [],
   "source": [
    "from sklearn.metrics import roc_curve\n",
    "from sklearn.metrics import roc_auc_score\n",
    "from sklearn.metrics import precision_recall_curve\n",
    "from sklearn.metrics import auc\n",
    "\n",
    "\n"
   ]
  },
  {
   "cell_type": "code",
   "execution_count": 76,
   "metadata": {},
   "outputs": [],
   "source": [
    "y_pred_proba = crashTree.predict_proba(X_test)[:,1]\n",
    "predslog = LR.predict_proba(X_test)[:,1]"
   ]
  },
  {
   "cell_type": "code",
   "execution_count": 78,
   "metadata": {},
   "outputs": [
    {
     "data": {
      "image/png": "[encoded data removed]",
      "text/plain": [
       "<Figure size 432x288 with 1 Axes>"
      ]
     },
     "metadata": {
      "needs_background": "light"
     },
     "output_type": "display_data"
    }
   ],
   "source": [
    "plt.figure(0).clf()\n",
    "\n",
    "fpr, tpr, thresh = metrics.roc_curve(y_test, y_pred_proba)\n",
    "auc = metrics.roc_auc_score(y_test, y_pred_proba)\n",
    "plt.plot(fpr,tpr,label=\"Decision tree, auc=\"+str(auc))\n",
    "\n",
    "\n",
    "fpr, tpr, thresh = metrics.roc_curve(y_test, predslog)\n",
    "auc = metrics.roc_auc_score(y_test, predslog)\n",
    "plt.plot(fpr,tpr,label=\"Logistic regression, auc=\"+str(auc))\n",
    "\n",
    "plt.legend(loc=0)\n",
    "plt.savefig('ROC.png')"
   ]
  },
  {
   "cell_type": "code",
   "execution_count": null,
   "metadata": {},
   "outputs": [],
   "source": []
  }
 ],
 "metadata": {
  "kernelspec": {
   "display_name": "Python",
   "language": "python",
   "name": "conda-env-python-py"
  },
  "language_info": {
   "codemirror_mode": {
    "name": "ipython",
    "version": 3
   },
   "file_extension": ".py",
   "mimetype": "text/x-python",
   "name": "python",
   "nbconvert_exporter": "python",
   "pygments_lexer": "ipython3",
   "version": "3.6.11"
  }
 },
 "nbformat": 4,
 "nbformat_minor": 4
}
